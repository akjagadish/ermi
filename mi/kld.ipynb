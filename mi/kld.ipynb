{
 "cells": [
  {
   "cell_type": "code",
   "execution_count": 1,
   "id": "98ca433e-5588-461b-b1e9-03c9cbe2ec30",
   "metadata": {},
   "outputs": [],
   "source": [
    "import torch\n",
    "import torch.nn as nn\n",
    "import math\n",
    "import torch.nn.functional as F\n",
    "import re\n",
    "from torch.distributions import Normal\n",
    "from torch.distributions.kl import kl_divergence\n",
    "import sys\n",
    "import pandas as pd\n",
    "import matplotlib.pyplot as plt\n",
    "import numpy as np\n",
    "import seaborn as sns\n",
    "import torch\n",
    "from model import TransformerDecoderClassification, TransformerDecoderLinearWeights, TransformerDecoderRegression, TransformerDecoderRegressionLinearWeights\n",
    "import ivon\n",
    "from model_utils import parse_model_path, get_wd_from_std, compute_kld\n",
    "from os import getenv\n",
    "SYS_PATH = '/u/ajagadish/ermi'"
   ]
  },
  {
   "cell_type": "code",
   "execution_count": 2,
   "id": "905eaa19-c771-4fcb-9f61-9c1755b64e67",
   "metadata": {},
   "outputs": [],
   "source": [
    "def save_klds(data, env, max_steps, num_inputs):\n",
    "\n",
    "    task_features = {'model_max_steps': max_steps}\n",
    "    paired=True\n",
    "    device='cpu'\n",
    "    std=0.1\n",
    "    lr=3e-4\n",
    "    klds,lambadas, esses = [], [], []\n",
    "    esses.extend([i for i in np.arange(10000, 100000, 10000)])\n",
    "    esses.extend([i for i in np.arange(30000, 40000, 100)])\n",
    "    esses = np.array(esses)\n",
    "    esses.sort()\n",
    "    \n",
    "    for ess in esses:#np.arange(10000, 1000000, 10000):\n",
    "        \n",
    "        # parse model parameters\n",
    "        model_path = f'{SYS_PATH}/decisionmaking/trained_models/env={env}_model=transformer_num_episodes100000_num_hidden=256_lr0.1_num_layers=6_d_model=64_num_head=8_noise0.0_shuffleTrue_pairedTrue_lossvariational_ess{str(ess)}_std0.1_run=0.pt'\n",
    "        num_hidden, num_layers, d_model, num_head, loss_fn, model_max_steps = parse_model_path(model_path, task_features)\n",
    "        # print(model_path)\n",
    "\n",
    "        # initialise model\n",
    "        if paired:\n",
    "            model = TransformerDecoderLinearWeights(num_input=num_inputs, num_output=1, num_hidden=num_hidden,\n",
    "                                                    num_layers=num_layers, d_model=d_model, num_head=num_head, max_steps=model_max_steps, loss=loss_fn, device=device).to(device)\n",
    "\n",
    "        else:\n",
    "            model = TransformerDecoderClassification(num_input=num_inputs, num_output=1, num_hidden=num_hidden,\n",
    "                                                        num_layers=num_layers, d_model=d_model, num_head=num_head, max_steps=model_max_steps, loss=loss_fn, device=device).to(device)\n",
    "\n",
    "        \n",
    "        # try:\n",
    "        # import ipdb; ipdb.set_trace()\n",
    "        aa = torch.load(model_path, map_location=torch.device('cpu'))\n",
    "        model.load_state_dict(aa[1])\n",
    "\n",
    "        lambda_ = len(pd.read_csv(f'{SYS_PATH}/decisionmaking/data/{data}.csv')) if ess is None else ess\n",
    "        wd = get_wd_from_std(std, lambda_)\n",
    "        optimizer = ivon.IVON(model.parameters(), lr=lr, ess=lambda_, weight_decay=wd)\n",
    "        optimizer.load_state_dict(aa[2])\n",
    "\n",
    "        kld = compute_kld(optimizer, std)\n",
    "        lambadas.append(lambda_)\n",
    "        klds.append(kld)\n",
    "        # except:\n",
    "        #      print(ess)\n",
    "\n",
    "    # save klds\n",
    "    df = pd.DataFrame({'lambda': lambadas, 'kld': klds})\n",
    "    df.to_csv(f'{SYS_PATH}/decisionmaking/data/stats/klds_{env}.csv', index=False)"
   ]
  },
  {
   "cell_type": "code",
   "execution_count": 3,
   "id": "c0dca557-7c7e-4b63-a94a-711063254c91",
   "metadata": {},
   "outputs": [
    {
     "data": {
      "image/png": "[encoded data removed]",
      "text/plain": [
       "<Figure size 640x480 with 1 Axes>"
      ]
     },
     "metadata": {},
     "output_type": "display_data"
    }
   ],
   "source": [
    "save_klds(data='claude_generated_functionlearningtasks_paramsNA_dim2_data20_tasks9254_run0_procid0_pversion2_unknown', env='claude_dim2', max_steps=10, num_inputs=2)\n",
    "data_klds = pd.read_csv('/u/ajagadish/ermi/decisionmaking/data/stats/klds_claude_dim2.csv')\n",
    "plt.plot(data_klds['lambda'].values, data_klds.kld.values)\n",
    "# plt.xscale('log')\n",
    "plt.yscale('log')\n",
    "plt.xlabel('$\\lambda$')\n",
    "plt.ylabel('$KLD$')\n",
    "plt.show()"
   ]
  },
  {
   "cell_type": "raw",
   "id": "f00242bb-8063-4286-90b0-239ba1558060",
   "metadata": {},
   "source": [
    "save_klds(data='claude_generated_functionlearningtasks_paramsNA_dim4_data20_tasks7284_run0_procid1_pversionunknown', env='claude_dim4_unknown' ,max_steps=10, num_inputs=4)"
   ]
  },
  {
   "cell_type": "code",
   "execution_count": null,
   "id": "aa73275b-a03b-4bbc-908e-61bbcd1c2533",
   "metadata": {},
   "outputs": [],
   "source": []
  }
 ],
 "metadata": {
  "kernelspec": {
   "display_name": "Python 3 (ipykernel)",
   "language": "python",
   "name": "python3"
  },
  "language_info": {
   "codemirror_mode": {
    "name": "ipython",
    "version": 3
   },
   "file_extension": ".py",
   "mimetype": "text/x-python",
   "name": "python",
   "nbconvert_exporter": "python",
   "pygments_lexer": "ipython3",
   "version": "3.10.9"
  }
 },
 "nbformat": 4,
 "nbformat_minor": 5
}
