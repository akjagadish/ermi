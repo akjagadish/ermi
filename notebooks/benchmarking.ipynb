{
 "cells": [
  {
   "cell_type": "code",
   "execution_count": 23,
   "id": "64ad8e38-73e7-439a-9e2d-47489cba8f00",
   "metadata": {},
   "outputs": [],
   "source": [
    "import matplotlib.pyplot as plt\n",
    "import numpy as np\n",
    "import pandas as pd"
   ]
  },
  {
   "cell_type": "markdown",
   "id": "23c0a091-562a-4278-907a-8d99273f18af",
   "metadata": {
    "tags": []
   },
   "source": [
    "### Summary: Accuracy and AUC"
   ]
  },
  {
   "cell_type": "code",
   "execution_count": 24,
   "id": "5fd00e02-29c3-459a-be03-c6873a25281b",
   "metadata": {
    "tags": []
   },
   "outputs": [],
   "source": [
    "import pandas as pd\n",
    "import numpy as np\n",
    "\n",
    "# Re-creating the mean performance data from previous context\n",
    "model_names = ['Logistic Regression', 'SVM', 'XGBoost', 'TabPFN', 'ERMI', 'ERMI (PFN-matched)']\n",
    "dataset_ids = [\n",
    "    3, 31, 37, 43, 49, 219, 3902, 3903, 3913, 3917, 3918, 9946, 9952, \n",
    "    9957, 9971, 9978, 10093, 10101, 14952, 14965, 146820, 167120, 167141\n",
    "]\n",
    "\n",
    "# Assuming 'performance_data' holds the original data as numpy array\n",
    "performance_data, auc_data = np.load('./benchmark_performance.npy') # Reload the data as the code execution state was reset\n",
    "mean_performance = {model: {dataset_id: np.mean(performance_data[i, j]) for j, dataset_id in enumerate(dataset_ids)} \n",
    "                    for i, model in enumerate(model_names)}\n",
    "std_performance = {model: {dataset_id: np.std(performance_data[i, j]) for j, dataset_id in enumerate(dataset_ids)} \n",
    "                    for i, model in enumerate(model_names)}\n",
    "\n",
    "mean_auc_performance = {model: {dataset_id: np.mean(auc_data[i, j]) for j, dataset_id in enumerate(dataset_ids)} \n",
    "                    for i, model in enumerate(model_names)}\n",
    "std_auc_performance = {model: {dataset_id: np.std(auc_data[i, j]) for j, dataset_id in enumerate(dataset_ids)} \n",
    "                    for i, model in enumerate(model_names)}\n",
    "\n",
    "# Convert to DataFrame\n",
    "df_mean_performance = pd.DataFrame(mean_performance, index=dataset_ids)\n",
    "df_std_performance = pd.DataFrame(std_performance, index=dataset_ids)\n",
    "# Ranking the models for each dataset\n",
    "ranked_performance = df_mean_performance.rank(axis=1, ascending=False)\n",
    "\n",
    "# Convert to DataFrame\n",
    "df_mean_auc_performance = pd.DataFrame(mean_auc_performance, index=dataset_ids)\n",
    "df_std_auc_performance = pd.DataFrame(std_auc_performance, index=dataset_ids)\n",
    "# Ranking the models for each dataset\n",
    "ranked_auc_performance = df_mean_auc_performance.rank(axis=1, ascending=False)\n",
    "\n",
    "# # #save\n",
    "# df_mean_performance.to_csv('mean_performance.csv')\n",
    "# ranked_performance.to_csv('ranked_performance.csv')\n",
    "# df_mean_performance.to_csv('mean_auc_performance.csv')\n",
    "# ranked_performance.to_csv('ranked_auc_performance.csv')"
   ]
  },
  {
   "cell_type": "code",
   "execution_count": 25,
   "id": "a605616f-7214-4d35-a14e-32ae5b8c9dbe",
   "metadata": {
    "tags": []
   },
   "outputs": [
    {
     "data": {
      "text/plain": [
       "Logistic Regression    4.521739\n",
       "SVM                    2.760870\n",
       "XGBoost                2.608696\n",
       "TabPFN                 2.847826\n",
       "ERMI                   2.260870\n",
       "dtype: float64"
      ]
     },
     "execution_count": 25,
     "metadata": {},
     "output_type": "execute_result"
    }
   ],
   "source": [
    "df_mean_performance.drop(columns=['ERMI (PFN-matched)']).rank(axis=1, ascending=False).mean()"
   ]
  },
  {
   "cell_type": "code",
   "execution_count": 26,
   "id": "06242b63-db78-4dca-a1e0-98d4c69d3650",
   "metadata": {
    "tags": []
   },
   "outputs": [
    {
     "data": {
      "text/plain": [
       "Logistic Regression    0.211933\n",
       "SVM                    0.264789\n",
       "XGBoost                0.297990\n",
       "TabPFN                 0.265889\n",
       "ERMI                   0.224689\n",
       "dtype: float64"
      ]
     },
     "execution_count": 26,
     "metadata": {},
     "output_type": "execute_result"
    }
   ],
   "source": [
    "df_mean_performance.drop(columns=['ERMI (PFN-matched)']).rank(axis=1, ascending=False).std()/np.sqrt(df_mean_performance.drop(columns=['ERMI (PFN-matched)']).shape[0]-1)"
   ]
  },
  {
   "cell_type": "code",
   "execution_count": 27,
   "id": "9c646948-c8c1-4094-9080-e376b89506e9",
   "metadata": {
    "tags": []
   },
   "outputs": [
    {
     "data": {
      "text/plain": [
       "Logistic Regression    0.627950\n",
       "SVM                    0.692888\n",
       "XGBoost                0.701739\n",
       "TabPFN                 0.705124\n",
       "ERMI                   0.709503\n",
       "dtype: float64"
      ]
     },
     "execution_count": 27,
     "metadata": {},
     "output_type": "execute_result"
    }
   ],
   "source": [
    "df_mean_performance.drop(columns=['ERMI (PFN-matched)']).mean()"
   ]
  },
  {
   "cell_type": "code",
   "execution_count": 28,
   "id": "f389a51f-c3b4-4605-a10d-71335bf6e1e1",
   "metadata": {},
   "outputs": [
    {
     "data": {
      "text/plain": [
       "array([0.00663189, 0.00616761, 0.0052    , 0.00636192, 0.00542339,\n",
       "       0.00546992, 0.00540707, 0.00592148])"
      ]
     },
     "execution_count": 28,
     "metadata": {},
     "output_type": "execute_result"
    }
   ],
   "source": [
    "#SEM across datasets\n",
    "performance_data, auc_data = np.load('./benchmark_performance.npy')\n",
    "performance_data.reshape((8, -1)).std(1)/np.sqrt(np.prod(performance_data.shape[1:])-1)"
   ]
  },
  {
   "cell_type": "code",
   "execution_count": 48,
   "id": "87bdf192-7264-439f-8513-30d957fc1f62",
   "metadata": {
    "tags": []
   },
   "outputs": [
    {
     "data": {
      "text/plain": [
       "Logistic Regression    2.434783\n",
       "SVM                    4.478261\n",
       "XGBoost                3.521739\n",
       "TabPFN                 1.478261\n",
       "ERMI                   3.086957\n",
       "dtype: float64"
      ]
     },
     "execution_count": 48,
     "metadata": {},
     "output_type": "execute_result"
    }
   ],
   "source": [
    "df_mean_auc_performance.drop(columns=['ERMI (PFN-matched)']).rank(axis=1, ascending=False).mean()"
   ]
  },
  {
   "cell_type": "code",
   "execution_count": 49,
   "id": "386da382-3f04-471f-b250-053a1931101b",
   "metadata": {},
   "outputs": [
    {
     "data": {
      "text/plain": [
       "Logistic Regression    0.772513\n",
       "SVM                    0.706367\n",
       "XGBoost                0.757746\n",
       "TabPFN                 0.790187\n",
       "ERMI                   0.767491\n",
       "dtype: float64"
      ]
     },
     "execution_count": 49,
     "metadata": {},
     "output_type": "execute_result"
    }
   ],
   "source": [
    "df_mean_auc_performance.drop(columns=['ERMI (PFN-matched)']).mean()"
   ]
  },
  {
   "cell_type": "code",
   "execution_count": 50,
   "id": "5f67e6cb-9656-4e85-b518-86d65c393eba",
   "metadata": {},
   "outputs": [
    {
     "data": {
      "text/plain": [
       "Logistic Regression    0.057264\n",
       "SVM                    0.152234\n",
       "XGBoost                0.067021\n",
       "TabPFN                 0.056350\n",
       "ERMI                   0.061160\n",
       "dtype: float64"
      ]
     },
     "execution_count": 50,
     "metadata": {},
     "output_type": "execute_result"
    }
   ],
   "source": [
    "df_std_auc_performance.drop(columns=['ERMI (PFN-matched)']).mean()"
   ]
  },
  {
   "cell_type": "code",
   "execution_count": 34,
   "id": "5fa138c2-ff43-4f21-bec2-bb5bdc691dd1",
   "metadata": {},
   "outputs": [
    {
     "data": {
      "text/plain": [
       "(0.7051242236024845, 0.7095031067728996)"
      ]
     },
     "execution_count": 34,
     "metadata": {},
     "output_type": "execute_result"
    }
   ],
   "source": [
    "performance_data.reshape((8, -1))[3].mean(), performance_data.reshape((8, -1))[4].mean()"
   ]
  },
  {
   "cell_type": "code",
   "execution_count": 36,
   "id": "31942773-290f-478b-b4dd-d0650158a897",
   "metadata": {},
   "outputs": [
    {
     "name": "stdout",
     "output_type": "stream",
     "text": [
      "t and p values for t-test:  -0.523799074435086 0.600544725299874\n"
     ]
    }
   ],
   "source": [
    "# compare t-test comparing means of two samples\n",
    "sample1=performance_data.reshape((8, -1))[3]\n",
    "sample2=performance_data.reshape((8, -1))[4]\n",
    "from scipy import stats\n",
    "t, p = stats.ttest_ind(sample1, sample2, axis=0)\n",
    "print('t and p values for t-test: ', t, p)"
   ]
  },
  {
   "cell_type": "code",
   "execution_count": 39,
   "id": "bd378804-7143-4362-9134-138bc5096f50",
   "metadata": {},
   "outputs": [
    {
     "data": {
      "text/plain": [
       "(array([  7.,  37.,  34.,  37.,  62., 116.,  70.,  45.,  25.,  27.]),\n",
       " array([0.37142857, 0.43428571, 0.49714286, 0.56      , 0.62285714,\n",
       "        0.68571429, 0.74857143, 0.81142857, 0.87428571, 0.93714286,\n",
       "        1.        ]),\n",
       " <BarContainer object of 10 artists>)"
      ]
     },
     "execution_count": 39,
     "metadata": {},
     "output_type": "execute_result"
    },
    {
     "data": {
      "image/png": "[encoded data removed]",
      "text/plain": [
       "<Figure size 432x288 with 1 Axes>"
      ]
     },
     "metadata": {
      "needs_background": "light"
     },
     "output_type": "display_data"
    }
   ],
   "source": [
    "plt.hist(sample2)\n",
    "plt.hist(sample1)"
   ]
  },
  {
   "cell_type": "code",
   "execution_count": null,
   "id": "fc953e9a-700f-431a-8032-5af38a0bf225",
   "metadata": {},
   "outputs": [],
   "source": []
  },
  {
   "cell_type": "markdown",
   "id": "ae36548f-40b7-4e11-9ff8-cd170bddbc32",
   "metadata": {
    "jp-MarkdownHeadingCollapsed": true,
    "tags": []
   },
   "source": [
    "### Summary Accuracy"
   ]
  },
  {
   "cell_type": "code",
   "execution_count": 3,
   "id": "db6ca471-3e71-4f53-b497-38bd384a6501",
   "metadata": {},
   "outputs": [],
   "source": [
    "import pandas as pd\n",
    "import numpy as np\n",
    "\n",
    "# Re-creating the mean performance data from previous context\n",
    "model_names = ['Logistic Regression', 'SVM', 'XGBoost', 'TabPFN', 'ERMI', 'ERMI (PFN-matched)']\n",
    "dataset_ids = [\n",
    "    3, 31, 37, 43, 49, 219, 3902, 3903, 3913, 3917, 3918, 9946, 9952, \n",
    "    9957, 9971, 9978, 10093, 10101, 14952, 14965, 146820, 167120, 167141\n",
    "]\n",
    "\n",
    "# Assuming 'performance_data' holds the original data as numpy array\n",
    "performance_data = np.load('./performance.npy') # Reload the data as the code execution state was reset\n",
    "mean_performance = {model: {dataset_id: np.mean(performance_data[i, j]) for j, dataset_id in enumerate(dataset_ids)} \n",
    "                    for i, model in enumerate(model_names)}\n",
    "std_performance = {model: {dataset_id: np.std(performance_data[i, j]) for j, dataset_id in enumerate(dataset_ids)} \n",
    "                    for i, model in enumerate(model_names)}\n",
    "\n",
    "# Convert to DataFrame\n",
    "df_mean_performance = pd.DataFrame(mean_performance, index=dataset_ids)\n",
    "df_std_performance = pd.DataFrame(std_performance, index=dataset_ids)\n",
    "\n",
    "# Ranking the models for each dataset\n",
    "ranked_performance = df_mean_performance.rank(axis=1, ascending=False)\n",
    "\n",
    "# #save\n",
    "# df_mean_performance.to_csv('mean_performance.csv')\n",
    "# ranked_performance.to_csv('ranked_performance.csv')"
   ]
  },
  {
   "cell_type": "code",
   "execution_count": 4,
   "id": "2bdf9c89-d70a-41f7-a477-f2e3cc2e56bf",
   "metadata": {},
   "outputs": [
    {
     "data": {
      "text/html": [
       "<div>\n",
       "<style scoped>\n",
       "    .dataframe tbody tr th:only-of-type {\n",
       "        vertical-align: middle;\n",
       "    }\n",
       "\n",
       "    .dataframe tbody tr th {\n",
       "        vertical-align: top;\n",
       "    }\n",
       "\n",
       "    .dataframe thead th {\n",
       "        text-align: right;\n",
       "    }\n",
       "</style>\n",
       "<table border=\"1\" class=\"dataframe\">\n",
       "  <thead>\n",
       "    <tr style=\"text-align: right;\">\n",
       "      <th></th>\n",
       "      <th>Logistic Regression</th>\n",
       "      <th>SVM</th>\n",
       "      <th>XGBoost</th>\n",
       "      <th>TabPFN</th>\n",
       "      <th>ERMI</th>\n",
       "      <th>ERMI (PFN-matched)</th>\n",
       "    </tr>\n",
       "  </thead>\n",
       "  <tbody>\n",
       "    <tr>\n",
       "      <th>3</th>\n",
       "      <td>5</td>\n",
       "      <td>2</td>\n",
       "      <td>6</td>\n",
       "      <td>1</td>\n",
       "      <td>3</td>\n",
       "      <td>4</td>\n",
       "    </tr>\n",
       "    <tr>\n",
       "      <th>31</th>\n",
       "      <td>1</td>\n",
       "      <td>2</td>\n",
       "      <td>3</td>\n",
       "      <td>6</td>\n",
       "      <td>5</td>\n",
       "      <td>4</td>\n",
       "    </tr>\n",
       "    <tr>\n",
       "      <th>37</th>\n",
       "      <td>6</td>\n",
       "      <td>1</td>\n",
       "      <td>5</td>\n",
       "      <td>3</td>\n",
       "      <td>2</td>\n",
       "      <td>4</td>\n",
       "    </tr>\n",
       "    <tr>\n",
       "      <th>43</th>\n",
       "      <td>6</td>\n",
       "      <td>4</td>\n",
       "      <td>5</td>\n",
       "      <td>1</td>\n",
       "      <td>2</td>\n",
       "      <td>3</td>\n",
       "    </tr>\n",
       "    <tr>\n",
       "      <th>49</th>\n",
       "      <td>6</td>\n",
       "      <td>3</td>\n",
       "      <td>2</td>\n",
       "      <td>4</td>\n",
       "      <td>1</td>\n",
       "      <td>5</td>\n",
       "    </tr>\n",
       "    <tr>\n",
       "      <th>219</th>\n",
       "      <td>6</td>\n",
       "      <td>5</td>\n",
       "      <td>1</td>\n",
       "      <td>2</td>\n",
       "      <td>4</td>\n",
       "      <td>3</td>\n",
       "    </tr>\n",
       "    <tr>\n",
       "      <th>3902</th>\n",
       "      <td>6</td>\n",
       "      <td>5</td>\n",
       "      <td>1</td>\n",
       "      <td>3</td>\n",
       "      <td>2</td>\n",
       "      <td>4</td>\n",
       "    </tr>\n",
       "    <tr>\n",
       "      <th>3903</th>\n",
       "      <td>6</td>\n",
       "      <td>3</td>\n",
       "      <td>1</td>\n",
       "      <td>2</td>\n",
       "      <td>4</td>\n",
       "      <td>5</td>\n",
       "    </tr>\n",
       "    <tr>\n",
       "      <th>3913</th>\n",
       "      <td>6</td>\n",
       "      <td>1</td>\n",
       "      <td>3</td>\n",
       "      <td>3</td>\n",
       "      <td>2</td>\n",
       "      <td>5</td>\n",
       "    </tr>\n",
       "    <tr>\n",
       "      <th>3917</th>\n",
       "      <td>6</td>\n",
       "      <td>2</td>\n",
       "      <td>1</td>\n",
       "      <td>4</td>\n",
       "      <td>5</td>\n",
       "      <td>3</td>\n",
       "    </tr>\n",
       "    <tr>\n",
       "      <th>3918</th>\n",
       "      <td>6</td>\n",
       "      <td>5</td>\n",
       "      <td>2</td>\n",
       "      <td>4</td>\n",
       "      <td>3</td>\n",
       "      <td>1</td>\n",
       "    </tr>\n",
       "    <tr>\n",
       "      <th>9946</th>\n",
       "      <td>4</td>\n",
       "      <td>2</td>\n",
       "      <td>6</td>\n",
       "      <td>1</td>\n",
       "      <td>5</td>\n",
       "      <td>3</td>\n",
       "    </tr>\n",
       "    <tr>\n",
       "      <th>9952</th>\n",
       "      <td>6</td>\n",
       "      <td>1</td>\n",
       "      <td>4</td>\n",
       "      <td>5</td>\n",
       "      <td>2</td>\n",
       "      <td>3</td>\n",
       "    </tr>\n",
       "    <tr>\n",
       "      <th>9957</th>\n",
       "      <td>6</td>\n",
       "      <td>2</td>\n",
       "      <td>5</td>\n",
       "      <td>4</td>\n",
       "      <td>1</td>\n",
       "      <td>3</td>\n",
       "    </tr>\n",
       "    <tr>\n",
       "      <th>9971</th>\n",
       "      <td>6</td>\n",
       "      <td>2</td>\n",
       "      <td>4</td>\n",
       "      <td>5</td>\n",
       "      <td>3</td>\n",
       "      <td>1</td>\n",
       "    </tr>\n",
       "    <tr>\n",
       "      <th>9978</th>\n",
       "      <td>5</td>\n",
       "      <td>2</td>\n",
       "      <td>4</td>\n",
       "      <td>6</td>\n",
       "      <td>1</td>\n",
       "      <td>3</td>\n",
       "    </tr>\n",
       "    <tr>\n",
       "      <th>10093</th>\n",
       "      <td>6</td>\n",
       "      <td>4</td>\n",
       "      <td>5</td>\n",
       "      <td>1</td>\n",
       "      <td>2</td>\n",
       "      <td>3</td>\n",
       "    </tr>\n",
       "    <tr>\n",
       "      <th>10101</th>\n",
       "      <td>6</td>\n",
       "      <td>5</td>\n",
       "      <td>3</td>\n",
       "      <td>4</td>\n",
       "      <td>1</td>\n",
       "      <td>2</td>\n",
       "    </tr>\n",
       "    <tr>\n",
       "      <th>14952</th>\n",
       "      <td>6</td>\n",
       "      <td>5</td>\n",
       "      <td>1</td>\n",
       "      <td>1</td>\n",
       "      <td>3</td>\n",
       "      <td>4</td>\n",
       "    </tr>\n",
       "    <tr>\n",
       "      <th>14965</th>\n",
       "      <td>5</td>\n",
       "      <td>6</td>\n",
       "      <td>1</td>\n",
       "      <td>2</td>\n",
       "      <td>3</td>\n",
       "      <td>4</td>\n",
       "    </tr>\n",
       "    <tr>\n",
       "      <th>146820</th>\n",
       "      <td>6</td>\n",
       "      <td>5</td>\n",
       "      <td>3</td>\n",
       "      <td>4</td>\n",
       "      <td>2</td>\n",
       "      <td>1</td>\n",
       "    </tr>\n",
       "    <tr>\n",
       "      <th>167120</th>\n",
       "      <td>4</td>\n",
       "      <td>5</td>\n",
       "      <td>1</td>\n",
       "      <td>5</td>\n",
       "      <td>3</td>\n",
       "      <td>2</td>\n",
       "    </tr>\n",
       "    <tr>\n",
       "      <th>167141</th>\n",
       "      <td>6</td>\n",
       "      <td>3</td>\n",
       "      <td>5</td>\n",
       "      <td>4</td>\n",
       "      <td>2</td>\n",
       "      <td>1</td>\n",
       "    </tr>\n",
       "  </tbody>\n",
       "</table>\n",
       "</div>"
      ],
      "text/plain": [
       "        Logistic Regression  SVM  XGBoost  TabPFN  ERMI  ERMI (PFN-matched)\n",
       "3                         5    2        6       1     3                   4\n",
       "31                        1    2        3       6     5                   4\n",
       "37                        6    1        5       3     2                   4\n",
       "43                        6    4        5       1     2                   3\n",
       "49                        6    3        2       4     1                   5\n",
       "219                       6    5        1       2     4                   3\n",
       "3902                      6    5        1       3     2                   4\n",
       "3903                      6    3        1       2     4                   5\n",
       "3913                      6    1        3       3     2                   5\n",
       "3917                      6    2        1       4     5                   3\n",
       "3918                      6    5        2       4     3                   1\n",
       "9946                      4    2        6       1     5                   3\n",
       "9952                      6    1        4       5     2                   3\n",
       "9957                      6    2        5       4     1                   3\n",
       "9971                      6    2        4       5     3                   1\n",
       "9978                      5    2        4       6     1                   3\n",
       "10093                     6    4        5       1     2                   3\n",
       "10101                     6    5        3       4     1                   2\n",
       "14952                     6    5        1       1     3                   4\n",
       "14965                     5    6        1       2     3                   4\n",
       "146820                    6    5        3       4     2                   1\n",
       "167120                    4    5        1       5     3                   2\n",
       "167141                    6    3        5       4     2                   1"
      ]
     },
     "execution_count": 4,
     "metadata": {},
     "output_type": "execute_result"
    }
   ],
   "source": [
    "# Displaying the ranked performance for each dataset\n",
    "ranked_performance.astype(int)  # Converting to integer for easier interpretation"
   ]
  },
  {
   "cell_type": "code",
   "execution_count": 5,
   "id": "2caa5d7d-478b-48e0-9594-e6336b68ccee",
   "metadata": {},
   "outputs": [
    {
     "data": {
      "text/html": [
       "<div>\n",
       "<style scoped>\n",
       "    .dataframe tbody tr th:only-of-type {\n",
       "        vertical-align: middle;\n",
       "    }\n",
       "\n",
       "    .dataframe tbody tr th {\n",
       "        vertical-align: top;\n",
       "    }\n",
       "\n",
       "    .dataframe thead th {\n",
       "        text-align: right;\n",
       "    }\n",
       "</style>\n",
       "<table border=\"1\" class=\"dataframe\">\n",
       "  <thead>\n",
       "    <tr style=\"text-align: right;\">\n",
       "      <th></th>\n",
       "      <th>Logistic Regression</th>\n",
       "      <th>SVM</th>\n",
       "      <th>XGBoost</th>\n",
       "      <th>TabPFN</th>\n",
       "      <th>ERMI</th>\n",
       "      <th>ERMI (PFN-matched)</th>\n",
       "    </tr>\n",
       "  </thead>\n",
       "  <tbody>\n",
       "    <tr>\n",
       "      <th>3</th>\n",
       "      <td>0.825714</td>\n",
       "      <td>0.851429</td>\n",
       "      <td>0.798571</td>\n",
       "      <td>0.866429</td>\n",
       "      <td>0.845000</td>\n",
       "      <td>0.836429</td>\n",
       "    </tr>\n",
       "    <tr>\n",
       "      <th>31</th>\n",
       "      <td>0.642143</td>\n",
       "      <td>0.635714</td>\n",
       "      <td>0.635000</td>\n",
       "      <td>0.603571</td>\n",
       "      <td>0.615000</td>\n",
       "      <td>0.622857</td>\n",
       "    </tr>\n",
       "    <tr>\n",
       "      <th>37</th>\n",
       "      <td>0.677143</td>\n",
       "      <td>0.707857</td>\n",
       "      <td>0.678571</td>\n",
       "      <td>0.688571</td>\n",
       "      <td>0.695000</td>\n",
       "      <td>0.685714</td>\n",
       "    </tr>\n",
       "    <tr>\n",
       "      <th>43</th>\n",
       "      <td>0.540714</td>\n",
       "      <td>0.766429</td>\n",
       "      <td>0.753571</td>\n",
       "      <td>0.799286</td>\n",
       "      <td>0.775714</td>\n",
       "      <td>0.774286</td>\n",
       "    </tr>\n",
       "    <tr>\n",
       "      <th>49</th>\n",
       "      <td>0.553571</td>\n",
       "      <td>0.595000</td>\n",
       "      <td>0.607143</td>\n",
       "      <td>0.591429</td>\n",
       "      <td>0.607143</td>\n",
       "      <td>0.582857</td>\n",
       "    </tr>\n",
       "    <tr>\n",
       "      <th>219</th>\n",
       "      <td>0.554286</td>\n",
       "      <td>0.600714</td>\n",
       "      <td>0.703571</td>\n",
       "      <td>0.687143</td>\n",
       "      <td>0.643571</td>\n",
       "      <td>0.677143</td>\n",
       "    </tr>\n",
       "    <tr>\n",
       "      <th>3902</th>\n",
       "      <td>0.713571</td>\n",
       "      <td>0.752143</td>\n",
       "      <td>0.788571</td>\n",
       "      <td>0.770714</td>\n",
       "      <td>0.771429</td>\n",
       "      <td>0.760714</td>\n",
       "    </tr>\n",
       "    <tr>\n",
       "      <th>3903</th>\n",
       "      <td>0.651429</td>\n",
       "      <td>0.726429</td>\n",
       "      <td>0.735714</td>\n",
       "      <td>0.727857</td>\n",
       "      <td>0.710714</td>\n",
       "      <td>0.686429</td>\n",
       "    </tr>\n",
       "    <tr>\n",
       "      <th>3913</th>\n",
       "      <td>0.589286</td>\n",
       "      <td>0.731429</td>\n",
       "      <td>0.725714</td>\n",
       "      <td>0.725714</td>\n",
       "      <td>0.725714</td>\n",
       "      <td>0.711429</td>\n",
       "    </tr>\n",
       "    <tr>\n",
       "      <th>3917</th>\n",
       "      <td>0.627143</td>\n",
       "      <td>0.670714</td>\n",
       "      <td>0.674286</td>\n",
       "      <td>0.667857</td>\n",
       "      <td>0.652143</td>\n",
       "      <td>0.669286</td>\n",
       "    </tr>\n",
       "    <tr>\n",
       "      <th>3918</th>\n",
       "      <td>0.533571</td>\n",
       "      <td>0.596429</td>\n",
       "      <td>0.651429</td>\n",
       "      <td>0.606429</td>\n",
       "      <td>0.649286</td>\n",
       "      <td>0.662857</td>\n",
       "    </tr>\n",
       "    <tr>\n",
       "      <th>9946</th>\n",
       "      <td>0.912143</td>\n",
       "      <td>0.920714</td>\n",
       "      <td>0.901429</td>\n",
       "      <td>0.922143</td>\n",
       "      <td>0.909286</td>\n",
       "      <td>0.912857</td>\n",
       "    </tr>\n",
       "    <tr>\n",
       "      <th>9952</th>\n",
       "      <td>0.579286</td>\n",
       "      <td>0.731429</td>\n",
       "      <td>0.697857</td>\n",
       "      <td>0.692143</td>\n",
       "      <td>0.720000</td>\n",
       "      <td>0.705000</td>\n",
       "    </tr>\n",
       "    <tr>\n",
       "      <th>9957</th>\n",
       "      <td>0.577857</td>\n",
       "      <td>0.701429</td>\n",
       "      <td>0.685000</td>\n",
       "      <td>0.692143</td>\n",
       "      <td>0.706429</td>\n",
       "      <td>0.701429</td>\n",
       "    </tr>\n",
       "    <tr>\n",
       "      <th>9971</th>\n",
       "      <td>0.549286</td>\n",
       "      <td>0.638571</td>\n",
       "      <td>0.622857</td>\n",
       "      <td>0.612143</td>\n",
       "      <td>0.628571</td>\n",
       "      <td>0.641429</td>\n",
       "    </tr>\n",
       "    <tr>\n",
       "      <th>9978</th>\n",
       "      <td>0.661429</td>\n",
       "      <td>0.690714</td>\n",
       "      <td>0.670714</td>\n",
       "      <td>0.647143</td>\n",
       "      <td>0.695000</td>\n",
       "      <td>0.679286</td>\n",
       "    </tr>\n",
       "    <tr>\n",
       "      <th>10093</th>\n",
       "      <td>0.772143</td>\n",
       "      <td>0.922857</td>\n",
       "      <td>0.845714</td>\n",
       "      <td>0.965714</td>\n",
       "      <td>0.937857</td>\n",
       "      <td>0.933571</td>\n",
       "    </tr>\n",
       "    <tr>\n",
       "      <th>10101</th>\n",
       "      <td>0.471429</td>\n",
       "      <td>0.549286</td>\n",
       "      <td>0.587857</td>\n",
       "      <td>0.567143</td>\n",
       "      <td>0.618571</td>\n",
       "      <td>0.613571</td>\n",
       "    </tr>\n",
       "    <tr>\n",
       "      <th>14952</th>\n",
       "      <td>0.792857</td>\n",
       "      <td>0.807143</td>\n",
       "      <td>0.815714</td>\n",
       "      <td>0.815714</td>\n",
       "      <td>0.812857</td>\n",
       "      <td>0.811429</td>\n",
       "    </tr>\n",
       "    <tr>\n",
       "      <th>14965</th>\n",
       "      <td>0.582857</td>\n",
       "      <td>0.561429</td>\n",
       "      <td>0.738571</td>\n",
       "      <td>0.735000</td>\n",
       "      <td>0.717143</td>\n",
       "      <td>0.709286</td>\n",
       "    </tr>\n",
       "    <tr>\n",
       "      <th>146820</th>\n",
       "      <td>0.517143</td>\n",
       "      <td>0.573571</td>\n",
       "      <td>0.639286</td>\n",
       "      <td>0.637143</td>\n",
       "      <td>0.650714</td>\n",
       "      <td>0.654286</td>\n",
       "    </tr>\n",
       "    <tr>\n",
       "      <th>167120</th>\n",
       "      <td>0.485714</td>\n",
       "      <td>0.477857</td>\n",
       "      <td>0.502857</td>\n",
       "      <td>0.477857</td>\n",
       "      <td>0.498571</td>\n",
       "      <td>0.500000</td>\n",
       "    </tr>\n",
       "    <tr>\n",
       "      <th>167141</th>\n",
       "      <td>0.632143</td>\n",
       "      <td>0.727143</td>\n",
       "      <td>0.680000</td>\n",
       "      <td>0.718571</td>\n",
       "      <td>0.732857</td>\n",
       "      <td>0.737143</td>\n",
       "    </tr>\n",
       "  </tbody>\n",
       "</table>\n",
       "</div>"
      ],
      "text/plain": [
       "        Logistic Regression       SVM   XGBoost    TabPFN      ERMI  \\\n",
       "3                  0.825714  0.851429  0.798571  0.866429  0.845000   \n",
       "31                 0.642143  0.635714  0.635000  0.603571  0.615000   \n",
       "37                 0.677143  0.707857  0.678571  0.688571  0.695000   \n",
       "43                 0.540714  0.766429  0.753571  0.799286  0.775714   \n",
       "49                 0.553571  0.595000  0.607143  0.591429  0.607143   \n",
       "219                0.554286  0.600714  0.703571  0.687143  0.643571   \n",
       "3902               0.713571  0.752143  0.788571  0.770714  0.771429   \n",
       "3903               0.651429  0.726429  0.735714  0.727857  0.710714   \n",
       "3913               0.589286  0.731429  0.725714  0.725714  0.725714   \n",
       "3917               0.627143  0.670714  0.674286  0.667857  0.652143   \n",
       "3918               0.533571  0.596429  0.651429  0.606429  0.649286   \n",
       "9946               0.912143  0.920714  0.901429  0.922143  0.909286   \n",
       "9952               0.579286  0.731429  0.697857  0.692143  0.720000   \n",
       "9957               0.577857  0.701429  0.685000  0.692143  0.706429   \n",
       "9971               0.549286  0.638571  0.622857  0.612143  0.628571   \n",
       "9978               0.661429  0.690714  0.670714  0.647143  0.695000   \n",
       "10093              0.772143  0.922857  0.845714  0.965714  0.937857   \n",
       "10101              0.471429  0.549286  0.587857  0.567143  0.618571   \n",
       "14952              0.792857  0.807143  0.815714  0.815714  0.812857   \n",
       "14965              0.582857  0.561429  0.738571  0.735000  0.717143   \n",
       "146820             0.517143  0.573571  0.639286  0.637143  0.650714   \n",
       "167120             0.485714  0.477857  0.502857  0.477857  0.498571   \n",
       "167141             0.632143  0.727143  0.680000  0.718571  0.732857   \n",
       "\n",
       "        ERMI (PFN-matched)  \n",
       "3                 0.836429  \n",
       "31                0.622857  \n",
       "37                0.685714  \n",
       "43                0.774286  \n",
       "49                0.582857  \n",
       "219               0.677143  \n",
       "3902              0.760714  \n",
       "3903              0.686429  \n",
       "3913              0.711429  \n",
       "3917              0.669286  \n",
       "3918              0.662857  \n",
       "9946              0.912857  \n",
       "9952              0.705000  \n",
       "9957              0.701429  \n",
       "9971              0.641429  \n",
       "9978              0.679286  \n",
       "10093             0.933571  \n",
       "10101             0.613571  \n",
       "14952             0.811429  \n",
       "14965             0.709286  \n",
       "146820            0.654286  \n",
       "167120            0.500000  \n",
       "167141            0.737143  "
      ]
     },
     "execution_count": 5,
     "metadata": {},
     "output_type": "execute_result"
    }
   ],
   "source": [
    "df_mean_performance"
   ]
  },
  {
   "cell_type": "code",
   "execution_count": 6,
   "id": "381369a4-e48b-4c23-af23-820cdfc59fdc",
   "metadata": {},
   "outputs": [
    {
     "data": {
      "text/html": [
       "<div>\n",
       "<style scoped>\n",
       "    .dataframe tbody tr th:only-of-type {\n",
       "        vertical-align: middle;\n",
       "    }\n",
       "\n",
       "    .dataframe tbody tr th {\n",
       "        vertical-align: top;\n",
       "    }\n",
       "\n",
       "    .dataframe thead th {\n",
       "        text-align: right;\n",
       "    }\n",
       "</style>\n",
       "<table border=\"1\" class=\"dataframe\">\n",
       "  <thead>\n",
       "    <tr style=\"text-align: right;\">\n",
       "      <th></th>\n",
       "      <th>Logistic Regression</th>\n",
       "      <th>SVM</th>\n",
       "      <th>XGBoost</th>\n",
       "      <th>TabPFN</th>\n",
       "      <th>ERMI</th>\n",
       "      <th>ERMI (PFN-matched)</th>\n",
       "    </tr>\n",
       "  </thead>\n",
       "  <tbody>\n",
       "    <tr>\n",
       "      <th>3</th>\n",
       "      <td>0.084829</td>\n",
       "      <td>0.065993</td>\n",
       "      <td>0.075309</td>\n",
       "      <td>0.055379</td>\n",
       "      <td>0.073161</td>\n",
       "      <td>0.071923</td>\n",
       "    </tr>\n",
       "    <tr>\n",
       "      <th>31</th>\n",
       "      <td>0.075116</td>\n",
       "      <td>0.087889</td>\n",
       "      <td>0.068880</td>\n",
       "      <td>0.095284</td>\n",
       "      <td>0.078957</td>\n",
       "      <td>0.086118</td>\n",
       "    </tr>\n",
       "    <tr>\n",
       "      <th>37</th>\n",
       "      <td>0.069752</td>\n",
       "      <td>0.063322</td>\n",
       "      <td>0.060017</td>\n",
       "      <td>0.055623</td>\n",
       "      <td>0.056834</td>\n",
       "      <td>0.074642</td>\n",
       "    </tr>\n",
       "    <tr>\n",
       "      <th>43</th>\n",
       "      <td>0.123988</td>\n",
       "      <td>0.044326</td>\n",
       "      <td>0.058183</td>\n",
       "      <td>0.039506</td>\n",
       "      <td>0.038624</td>\n",
       "      <td>0.056892</td>\n",
       "    </tr>\n",
       "    <tr>\n",
       "      <th>49</th>\n",
       "      <td>0.065290</td>\n",
       "      <td>0.076435</td>\n",
       "      <td>0.081504</td>\n",
       "      <td>0.085404</td>\n",
       "      <td>0.056514</td>\n",
       "      <td>0.067401</td>\n",
       "    </tr>\n",
       "    <tr>\n",
       "      <th>219</th>\n",
       "      <td>0.060542</td>\n",
       "      <td>0.066773</td>\n",
       "      <td>0.058183</td>\n",
       "      <td>0.073665</td>\n",
       "      <td>0.076195</td>\n",
       "      <td>0.062662</td>\n",
       "    </tr>\n",
       "    <tr>\n",
       "      <th>3902</th>\n",
       "      <td>0.080746</td>\n",
       "      <td>0.067200</td>\n",
       "      <td>0.065403</td>\n",
       "      <td>0.065850</td>\n",
       "      <td>0.059074</td>\n",
       "      <td>0.065290</td>\n",
       "    </tr>\n",
       "    <tr>\n",
       "      <th>3903</th>\n",
       "      <td>0.101157</td>\n",
       "      <td>0.045237</td>\n",
       "      <td>0.050609</td>\n",
       "      <td>0.048545</td>\n",
       "      <td>0.062576</td>\n",
       "      <td>0.048335</td>\n",
       "    </tr>\n",
       "    <tr>\n",
       "      <th>3913</th>\n",
       "      <td>0.117532</td>\n",
       "      <td>0.047509</td>\n",
       "      <td>0.049198</td>\n",
       "      <td>0.064302</td>\n",
       "      <td>0.051230</td>\n",
       "      <td>0.052606</td>\n",
       "    </tr>\n",
       "    <tr>\n",
       "      <th>3917</th>\n",
       "      <td>0.089203</td>\n",
       "      <td>0.079086</td>\n",
       "      <td>0.067552</td>\n",
       "      <td>0.075170</td>\n",
       "      <td>0.058077</td>\n",
       "      <td>0.053695</td>\n",
       "    </tr>\n",
       "    <tr>\n",
       "      <th>3918</th>\n",
       "      <td>0.082965</td>\n",
       "      <td>0.090787</td>\n",
       "      <td>0.099939</td>\n",
       "      <td>0.109309</td>\n",
       "      <td>0.091638</td>\n",
       "      <td>0.099837</td>\n",
       "    </tr>\n",
       "    <tr>\n",
       "      <th>9946</th>\n",
       "      <td>0.053314</td>\n",
       "      <td>0.031127</td>\n",
       "      <td>0.056767</td>\n",
       "      <td>0.048755</td>\n",
       "      <td>0.038933</td>\n",
       "      <td>0.038835</td>\n",
       "    </tr>\n",
       "    <tr>\n",
       "      <th>9952</th>\n",
       "      <td>0.104732</td>\n",
       "      <td>0.046423</td>\n",
       "      <td>0.064250</td>\n",
       "      <td>0.100962</td>\n",
       "      <td>0.059488</td>\n",
       "      <td>0.072178</td>\n",
       "    </tr>\n",
       "    <tr>\n",
       "      <th>9957</th>\n",
       "      <td>0.107616</td>\n",
       "      <td>0.075309</td>\n",
       "      <td>0.076861</td>\n",
       "      <td>0.094919</td>\n",
       "      <td>0.055783</td>\n",
       "      <td>0.064823</td>\n",
       "    </tr>\n",
       "    <tr>\n",
       "      <th>9971</th>\n",
       "      <td>0.109216</td>\n",
       "      <td>0.079038</td>\n",
       "      <td>0.057214</td>\n",
       "      <td>0.081350</td>\n",
       "      <td>0.058554</td>\n",
       "      <td>0.083409</td>\n",
       "    </tr>\n",
       "    <tr>\n",
       "      <th>9978</th>\n",
       "      <td>0.105182</td>\n",
       "      <td>0.085150</td>\n",
       "      <td>0.075387</td>\n",
       "      <td>0.109087</td>\n",
       "      <td>0.061987</td>\n",
       "      <td>0.067684</td>\n",
       "    </tr>\n",
       "    <tr>\n",
       "      <th>10093</th>\n",
       "      <td>0.121930</td>\n",
       "      <td>0.041008</td>\n",
       "      <td>0.047509</td>\n",
       "      <td>0.021381</td>\n",
       "      <td>0.027209</td>\n",
       "      <td>0.021321</td>\n",
       "    </tr>\n",
       "    <tr>\n",
       "      <th>10101</th>\n",
       "      <td>0.040658</td>\n",
       "      <td>0.079344</td>\n",
       "      <td>0.084790</td>\n",
       "      <td>0.084043</td>\n",
       "      <td>0.054417</td>\n",
       "      <td>0.049172</td>\n",
       "    </tr>\n",
       "    <tr>\n",
       "      <th>14952</th>\n",
       "      <td>0.046839</td>\n",
       "      <td>0.042258</td>\n",
       "      <td>0.051686</td>\n",
       "      <td>0.058884</td>\n",
       "      <td>0.060592</td>\n",
       "      <td>0.069488</td>\n",
       "    </tr>\n",
       "    <tr>\n",
       "      <th>14965</th>\n",
       "      <td>0.114250</td>\n",
       "      <td>0.092923</td>\n",
       "      <td>0.071443</td>\n",
       "      <td>0.072206</td>\n",
       "      <td>0.066332</td>\n",
       "      <td>0.082348</td>\n",
       "    </tr>\n",
       "    <tr>\n",
       "      <th>146820</th>\n",
       "      <td>0.078454</td>\n",
       "      <td>0.091057</td>\n",
       "      <td>0.062249</td>\n",
       "      <td>0.094804</td>\n",
       "      <td>0.059329</td>\n",
       "      <td>0.050020</td>\n",
       "    </tr>\n",
       "    <tr>\n",
       "      <th>167120</th>\n",
       "      <td>0.058204</td>\n",
       "      <td>0.052581</td>\n",
       "      <td>0.056892</td>\n",
       "      <td>0.052581</td>\n",
       "      <td>0.052079</td>\n",
       "      <td>0.047809</td>\n",
       "    </tr>\n",
       "    <tr>\n",
       "      <th>167141</th>\n",
       "      <td>0.098133</td>\n",
       "      <td>0.090678</td>\n",
       "      <td>0.098912</td>\n",
       "      <td>0.101126</td>\n",
       "      <td>0.076144</td>\n",
       "      <td>0.072478</td>\n",
       "    </tr>\n",
       "  </tbody>\n",
       "</table>\n",
       "</div>"
      ],
      "text/plain": [
       "        Logistic Regression       SVM   XGBoost    TabPFN      ERMI  \\\n",
       "3                  0.084829  0.065993  0.075309  0.055379  0.073161   \n",
       "31                 0.075116  0.087889  0.068880  0.095284  0.078957   \n",
       "37                 0.069752  0.063322  0.060017  0.055623  0.056834   \n",
       "43                 0.123988  0.044326  0.058183  0.039506  0.038624   \n",
       "49                 0.065290  0.076435  0.081504  0.085404  0.056514   \n",
       "219                0.060542  0.066773  0.058183  0.073665  0.076195   \n",
       "3902               0.080746  0.067200  0.065403  0.065850  0.059074   \n",
       "3903               0.101157  0.045237  0.050609  0.048545  0.062576   \n",
       "3913               0.117532  0.047509  0.049198  0.064302  0.051230   \n",
       "3917               0.089203  0.079086  0.067552  0.075170  0.058077   \n",
       "3918               0.082965  0.090787  0.099939  0.109309  0.091638   \n",
       "9946               0.053314  0.031127  0.056767  0.048755  0.038933   \n",
       "9952               0.104732  0.046423  0.064250  0.100962  0.059488   \n",
       "9957               0.107616  0.075309  0.076861  0.094919  0.055783   \n",
       "9971               0.109216  0.079038  0.057214  0.081350  0.058554   \n",
       "9978               0.105182  0.085150  0.075387  0.109087  0.061987   \n",
       "10093              0.121930  0.041008  0.047509  0.021381  0.027209   \n",
       "10101              0.040658  0.079344  0.084790  0.084043  0.054417   \n",
       "14952              0.046839  0.042258  0.051686  0.058884  0.060592   \n",
       "14965              0.114250  0.092923  0.071443  0.072206  0.066332   \n",
       "146820             0.078454  0.091057  0.062249  0.094804  0.059329   \n",
       "167120             0.058204  0.052581  0.056892  0.052581  0.052079   \n",
       "167141             0.098133  0.090678  0.098912  0.101126  0.076144   \n",
       "\n",
       "        ERMI (PFN-matched)  \n",
       "3                 0.071923  \n",
       "31                0.086118  \n",
       "37                0.074642  \n",
       "43                0.056892  \n",
       "49                0.067401  \n",
       "219               0.062662  \n",
       "3902              0.065290  \n",
       "3903              0.048335  \n",
       "3913              0.052606  \n",
       "3917              0.053695  \n",
       "3918              0.099837  \n",
       "9946              0.038835  \n",
       "9952              0.072178  \n",
       "9957              0.064823  \n",
       "9971              0.083409  \n",
       "9978              0.067684  \n",
       "10093             0.021321  \n",
       "10101             0.049172  \n",
       "14952             0.069488  \n",
       "14965             0.082348  \n",
       "146820            0.050020  \n",
       "167120            0.047809  \n",
       "167141            0.072478  "
      ]
     },
     "execution_count": 6,
     "metadata": {},
     "output_type": "execute_result"
    }
   ],
   "source": [
    "df_std_performance"
   ]
  },
  {
   "cell_type": "code",
   "execution_count": 9,
   "id": "246a3b5e-7655-4db6-bb48-435580ae612c",
   "metadata": {},
   "outputs": [
    {
     "data": {
      "text/plain": [
       "Logistic Regression    0.086506\n",
       "SVM                    0.067020\n",
       "XGBoost                0.066902\n",
       "TabPFN                 0.073397\n",
       "ERMI                   0.059727\n",
       "dtype: float64"
      ]
     },
     "execution_count": 9,
     "metadata": {},
     "output_type": "execute_result"
    }
   ],
   "source": [
    "df_std_performance.drop(columns=['ERMI (PFN-matched)']).mean()"
   ]
  },
  {
   "cell_type": "code",
   "execution_count": 15,
   "id": "c6269c14-b95b-4b0c-b184-9e98eec6a26f",
   "metadata": {
    "tags": []
   },
   "outputs": [
    {
     "data": {
      "text/plain": [
       "Logistic Regression    4.521739\n",
       "SVM                    2.760870\n",
       "XGBoost                2.608696\n",
       "TabPFN                 2.847826\n",
       "ERMI                   2.260870\n",
       "dtype: float64"
      ]
     },
     "execution_count": 15,
     "metadata": {},
     "output_type": "execute_result"
    }
   ],
   "source": [
    "df_mean_performance.drop(columns=['ERMI (PFN-matched)']).rank(axis=1, ascending=False).mean()"
   ]
  },
  {
   "cell_type": "code",
   "execution_count": 16,
   "id": "4c948003-d48b-4487-b89f-a8bf82412b6b",
   "metadata": {
    "tags": []
   },
   "outputs": [
    {
     "data": {
      "text/plain": [
       "Logistic Regression    4.565217\n",
       "SVM                    2.673913\n",
       "XGBoost                2.565217\n",
       "TabPFN                 2.717391\n",
       "ERMI (PFN-matched)     2.478261\n",
       "dtype: float64"
      ]
     },
     "execution_count": 16,
     "metadata": {},
     "output_type": "execute_result"
    }
   ],
   "source": [
    "df_mean_performance.drop(columns=['ERMI']).rank(axis=1, ascending=False).mean()"
   ]
  },
  {
   "cell_type": "code",
   "execution_count": null,
   "id": "59d06496-c01b-4460-b16c-1a2552113e42",
   "metadata": {},
   "outputs": [],
   "source": []
  },
  {
   "cell_type": "markdown",
   "id": "6f4c1662-0003-414b-97e9-ba1eef152c04",
   "metadata": {
    "jp-MarkdownHeadingCollapsed": true,
    "tags": []
   },
   "source": [
    "### load results"
   ]
  },
  {
   "cell_type": "code",
   "execution_count": 4,
   "id": "c1453424-0884-41de-881b-e23edcd8497d",
   "metadata": {},
   "outputs": [],
   "source": [
    "results = np.load('performance.npy')"
   ]
  },
  {
   "cell_type": "code",
   "execution_count": 28,
   "id": "7fb0b518-8ce7-4174-9070-f4dc565d99c9",
   "metadata": {},
   "outputs": [
    {
     "data": {
      "text/plain": [
       "array([[0.82571429, 0.64214286, 0.67714286, 0.54071429, 0.55357143,\n",
       "        0.55428571, 0.71357143, 0.65142857, 0.58928571, 0.62714286,\n",
       "        0.53357143, 0.91214286, 0.57928571, 0.57785714, 0.54928571,\n",
       "        0.66142857, 0.77214286, 0.47142857, 0.79285714, 0.58285714,\n",
       "        0.51714286, 0.48571429, 0.63214286],\n",
       "       [0.85142857, 0.63571429, 0.70785714, 0.76642857, 0.595     ,\n",
       "        0.60071429, 0.75214286, 0.72642857, 0.73142857, 0.67071429,\n",
       "        0.59642857, 0.92071429, 0.73142857, 0.70142857, 0.63857143,\n",
       "        0.69071429, 0.92285714, 0.54928571, 0.80714286, 0.56142857,\n",
       "        0.57357143, 0.47785714, 0.72714286],\n",
       "       [0.79857143, 0.635     , 0.67857143, 0.75357143, 0.60714286,\n",
       "        0.70357143, 0.78857143, 0.73571429, 0.72571429, 0.67428571,\n",
       "        0.65142857, 0.90142857, 0.69785714, 0.685     , 0.62285714,\n",
       "        0.67071429, 0.84571429, 0.58785714, 0.81571429, 0.73857143,\n",
       "        0.63928571, 0.50285714, 0.68      ],\n",
       "       [0.86642857, 0.60357143, 0.68857143, 0.79928571, 0.59142857,\n",
       "        0.68714286, 0.77071429, 0.72785714, 0.72571429, 0.66785714,\n",
       "        0.60642857, 0.92214286, 0.69214286, 0.69214286, 0.61214286,\n",
       "        0.64714286, 0.96571429, 0.56714286, 0.81571429, 0.735     ,\n",
       "        0.63714286, 0.47785714, 0.71857143],\n",
       "       [0.84499999, 0.615     , 0.695     , 0.77571429, 0.60714286,\n",
       "        0.64357143, 0.77142857, 0.71071429, 0.72571429, 0.65214286,\n",
       "        0.64928572, 0.9092857 , 0.72      , 0.70642858, 0.62857143,\n",
       "        0.695     , 0.93785714, 0.61857144, 0.81285714, 0.71714286,\n",
       "        0.65071429, 0.49857144, 0.73285714],\n",
       "       [0.83642856, 0.62285715, 0.68571429, 0.77428571, 0.58285715,\n",
       "        0.67714286, 0.76071429, 0.68642857, 0.71142857, 0.66928572,\n",
       "        0.66285715, 0.91285713, 0.705     , 0.70142857, 0.64142858,\n",
       "        0.67928571, 0.93357142, 0.61357144, 0.81142857, 0.70928571,\n",
       "        0.65428573, 0.50000001, 0.73714286]])"
      ]
     },
     "execution_count": 28,
     "metadata": {},
     "output_type": "execute_result"
    }
   ],
   "source": [
    "results.mean(2)"
   ]
  },
  {
   "cell_type": "code",
   "execution_count": 27,
   "id": "e5681f7f-220e-4ebf-9b4e-3e038465fe77",
   "metadata": {},
   "outputs": [
    {
     "name": "stderr",
     "output_type": "stream",
     "text": [
      "No handles with labels found to put in legend.\n"
     ]
    },
    {
     "data": {
      "image/png": "[encoded data removed]",
      "text/plain": [
       "<Figure size 432x288 with 1 Axes>"
      ]
     },
     "metadata": {
      "needs_background": "light"
     },
     "output_type": "display_data"
    }
   ],
   "source": [
    "plt.plot(results.mean(2).T)\n",
    "plt.legend()\n",
    "plt.show()"
   ]
  },
  {
   "cell_type": "markdown",
   "id": "cd63d948-a7de-4b1c-b3c1-f8b37db892e7",
   "metadata": {
    "jp-MarkdownHeadingCollapsed": true,
    "tags": []
   },
   "source": [
    "### datasets"
   ]
  },
  {
   "cell_type": "code",
   "execution_count": 14,
   "id": "f1a29db7-37e2-4bad-b1bb-dc2827d2205a",
   "metadata": {},
   "outputs": [],
   "source": [
    "data = pd.read_csv('data.csv')"
   ]
  },
  {
   "cell_type": "code",
   "execution_count": 20,
   "id": "ecb454fe-b269-4ed2-87e3-8575fb36cbc0",
   "metadata": {},
   "outputs": [
    {
     "data": {
      "text/plain": [
       "(23,)"
      ]
     },
     "execution_count": 20,
     "metadata": {},
     "output_type": "execute_result"
    }
   ],
   "source": [
    "data.task_idx.unique().shape"
   ]
  },
  {
   "cell_type": "code",
   "execution_count": 37,
   "id": "c1b45c95-83a3-433e-ba9b-0e6ccfed9d44",
   "metadata": {},
   "outputs": [
    {
     "data": {
      "text/plain": [
       "array([     3,     31,     37,     43,     49,    219,   3902,   3903,\n",
       "         3913,   3917,   3918,   9946,   9952,   9957,   9971,   9978,\n",
       "        10093,  10101,  14952,  14965, 146820, 167120, 167141])"
      ]
     },
     "execution_count": 37,
     "metadata": {},
     "output_type": "execute_result"
    }
   ],
   "source": [
    "data.task_idx.unique()"
   ]
  },
  {
   "cell_type": "code",
   "execution_count": 39,
   "id": "cfd8da6a-99bd-471f-a813-46857cdd7bd2",
   "metadata": {},
   "outputs": [
    {
     "data": {
      "text/plain": [
       "[<matplotlib.lines.Line2D at 0x14fdbb4491f0>]"
      ]
     },
     "execution_count": 39,
     "metadata": {},
     "output_type": "execute_result"
    },
    {
     "data": {
      "image/png": "[encoded data removed]",
      "text/plain": [
       "<Figure size 432x288 with 1 Axes>"
      ]
     },
     "metadata": {
      "needs_background": "light"
     },
     "output_type": "display_data"
    }
   ],
   "source": [
    "plt.plot(data.task_idx)"
   ]
  }
 ],
 "metadata": {
  "kernelspec": {
   "display_name": "Python 3 (ipykernel)",
   "language": "python",
   "name": "python3"
  },
  "language_info": {
   "codemirror_mode": {
    "name": "ipython",
    "version": 3
   },
   "file_extension": ".py",
   "mimetype": "text/x-python",
   "name": "python",
   "nbconvert_exporter": "python",
   "pygments_lexer": "ipython3",
   "version": "3.9.7"
  }
 },
 "nbformat": 4,
 "nbformat_minor": 5
}
