{
 "cells": [
  {
   "cell_type": "raw",
   "id": "6d002d22-84b8-4b67-90d7-24846c954c43",
   "metadata": {},
   "source": [
    "!pip install --upgrade Pillow mycolorpy"
   ]
  },
  {
   "cell_type": "code",
   "execution_count": 2,
   "id": "991c779c-829a-4214-84b6-f4c9906c49e6",
   "metadata": {},
   "outputs": [],
   "source": [
    "import sys\n",
    "sys.path.append('/u/ajagadish/ermi/categorisation/')\n",
    "import pandas as pd\n",
    "import numpy as np\n",
    "import matplotlib.pyplot as plt\n",
    "import seaborn as sns\n",
    "import torch\n",
    "import json\n",
    "from collections import Counter, defaultdict\n",
    "from wordcloud import WordCloud\n",
    "from mycolorpy import colorlist as mcp\n",
    "import math\n",
    "FONTSIZE=20\n",
    "SYS_PATH = '/u/ajagadish/ermi' #'/raven/u/ajagadish/vanilla-llama/'"
   ]
  },
  {
   "cell_type": "code",
   "execution_count": 31,
   "id": "344d3bbb-51d6-409a-9ff0-46eb43f4f96b",
   "metadata": {},
   "outputs": [],
   "source": [
    "def world_cloud(file_name, path='/u/ajagadish/vanilla-llama/categorisation/data/tasklabels', feature_names=True, pairs=False, top_labels=50):\n",
    "\n",
    "    df = pd.read_csv(f'{path}/{file_name}.csv')\n",
    "    df.feature_names = df['feature_names'].apply(lambda x: eval(x))\n",
    "    df.category_names = df['category_names'].apply(lambda x: eval(x))\n",
    "    \n",
    "    def to_lower(ff):\n",
    "        return [x.lower() for x in ff]\n",
    "    \n",
    "    df.feature_names = df['feature_names'].apply(lambda x: to_lower(x))\n",
    "    df.category_names = df['category_names'].apply(lambda x: to_lower(x))\n",
    "\n",
    "    # name of the column containing the feature names\n",
    "    column_name = 'feature_names' if feature_names else 'category_names'\n",
    "    # count of number of times a type of features occurs\n",
    "    list_counts = Counter([tuple(features) for features in df[column_name]] if pairs else np.stack(df[column_name].values).reshape(-1))\n",
    "\n",
    "    # sort the Counter by counts in descending order\n",
    "    sorted_list_counts = sorted(list_counts.items(), key=lambda x: x[1], reverse=True)\n",
    "\n",
    "    # extract the counts and names for the top 50 labels\n",
    "    task_labels = np.array([task_label[0] for task_label in sorted_list_counts[:top_labels]])\n",
    "    label_counts= np.array([task_label[1] for task_label in sorted_list_counts[:top_labels]])\n",
    "    label_names = ['-'.join(task_labels[idx]) for idx in range(len(task_labels))] if pairs else task_labels\n",
    "\n",
    "    # make a dict with task labels and counts\n",
    "    word_freq = {}\n",
    "    for idx in range(len(label_names)):\n",
    "        word_freq[label_names[idx]] = label_counts[idx]\n",
    "\n",
    "    # generate word cloud\n",
    "    # wordcloud = WordCloud(width=800, height=400, max_words=50, background_color='white').generate_from_frequencies(word_freq)\n",
    "    wordcloud = WordCloud(width = 1300, height = 700, background_color='white',max_font_size = 100, collocations=False, colormap='inferno', prefer_horizontal=1).generate_from_frequencies(word_freq)\n",
    "    plt.figure(figsize=(13, 7), dpi=1000)\n",
    "    plt.imshow(wordcloud, interpolation='bilinear')\n",
    "    plt.axis('off')\n",
    "    plt.show()\n",
    "    wordcloud.to_file(f'{SYS_PATH}/figures/wordcloud_{column_name}_paired={pairs}_top{top_labels}.png')"
   ]
  },
  {
   "cell_type": "raw",
   "id": "2b537a64-0809-49e7-a644-8894848170fc",
   "metadata": {},
   "source": [
    "world_cloud('claude_generated_tasklabels_paramsNA_dim3_tasks23421_pversion5', feature_names=False, pairs=False)\n",
    "world_cloud('claude_generated_tasklabels_paramsNA_dim3_tasks23421_pversion5', feature_names=True, pairs=False)"
   ]
  },
  {
   "cell_type": "raw",
   "id": "379c65e7-d986-4308-b065-31094a7c4de0",
   "metadata": {},
   "source": [
    "world_cloud('claude_generated_tasklabels_paramsNA_dim4_tasks20690_pversion5', feature_names=False, pairs=False)\n",
    "world_cloud('claude_generated_tasklabels_paramsNA_dim4_tasks20690_pversion5', feature_names=True, pairs=False)"
   ]
  },
  {
   "cell_type": "raw",
   "id": "f9990a2c-4079-462f-b020-0f5447792fee",
   "metadata": {},
   "source": [
    "world_cloud('claude_generated_tasklabels_paramsNA_dim6_tasks13693_pversion5', feature_names=False, pairs=False)\n",
    "world_cloud('claude_generated_tasklabels_paramsNA_dim6_tasks13693_pversion5', feature_names=True, pairs=False)"
   ]
  },
  {
   "cell_type": "code",
   "execution_count": null,
   "id": "d23cc4b9-530a-4e51-be18-80d7a390c6d6",
   "metadata": {},
   "outputs": [],
   "source": []
  },
  {
   "cell_type": "code",
   "execution_count": 12,
   "id": "ef86c84e-be20-4f18-b79a-a4a603fc31d6",
   "metadata": {},
   "outputs": [],
   "source": [
    "def plot_frequency_tasklabels(file_name, path='/u/ajagadish/vanilla-llama/categorisation/data/tasklabels', feature_names=True, pairs=True, top_labels=50):\n",
    "\n",
    "    df = pd.read_csv(f'{path}/{file_name}.csv')\n",
    "    df.feature_names = df['feature_names'].apply(lambda x: eval(x))\n",
    "    df.category_names = df['category_names'].apply(lambda x: eval(x))\n",
    "    \n",
    "    def to_lower(ff):\n",
    "        return [x.lower() for x in ff]\n",
    "    \n",
    "    df.feature_names = df['feature_names'].apply(lambda x: to_lower(x))\n",
    "    df.category_names = df['category_names'].apply(lambda x: to_lower(x))\n",
    "\n",
    "    # name of the column containing the feature names\n",
    "    column_name = 'feature_names' if feature_names else 'category_names'\n",
    "    # count of number of times a type of features occurs\n",
    "    list_counts = Counter([tuple(features) for features in df[column_name]] if pairs else np.stack(df[column_name].values).reshape(-1))\n",
    "\n",
    "    # sort the Counter by counts in descending order\n",
    "    sorted_list_counts = sorted(list_counts.items(), key=lambda x: x[1], reverse=True)\n",
    "\n",
    "    # extract the counts and names for the top 50 labels\n",
    "    task_labels = np.array([task_label[0] for task_label in sorted_list_counts[:top_labels]])\n",
    "    label_counts= np.array([task_label[1] for task_label in sorted_list_counts[:top_labels]])\n",
    "    label_names = ['-'.join(task_labels[idx]) for idx in range(len(task_labels))] if pairs else task_labels\n",
    "\n",
    "    # plot the bars of labels and counts\n",
    "    f, ax = plt.subplots(1, 1, figsize=(10,10))\n",
    "    ax.bar(label_names, label_counts)\n",
    "    plt.xticks(label_names, label_names, rotation=90, fontsize=FONTSIZE-6.5)\n",
    "    plt.yticks(fontsize=FONTSIZE-6)\n",
    "    ax.set_xlabel('Feature Names' if feature_names else 'Category Names', fontsize=FONTSIZE)\n",
    "    ax.set_ylabel('Counts', fontsize=FONTSIZE)\n",
    "    ax.set_title(f'Top {top_labels} Tasks', fontsize=FONTSIZE)\n",
    "    sns.despine()\n",
    "    f.tight_layout()\n",
    "    plt.show()\n",
    "    \n",
    "    f.savefig(f'{SYS_PATH}/figures/frequency_plot_tasklabels_{column_name}_paired={pairs}_top{top_labels}.png', bbox_inches='tight', dpi=300)\n"
   ]
  },
  {
   "cell_type": "raw",
   "id": "f3ea2855-877a-4513-b33a-2a03af0484c7",
   "metadata": {},
   "source": [
    "plot_frequency_tasklabels('claude_generated_tasklabels_paramsNA_dim3_tasks23421_pversion5', feature_names=False, pairs=False)"
   ]
  },
  {
   "cell_type": "code",
   "execution_count": null,
   "id": "ac906bd5-9960-4f0c-8801-7adedb4159a9",
   "metadata": {},
   "outputs": [],
   "source": []
  },
  {
   "cell_type": "code",
   "execution_count": null,
   "id": "5ca7da25-ae13-484b-864e-0f219561bbc0",
   "metadata": {},
   "outputs": [],
   "source": []
  },
  {
   "cell_type": "code",
   "execution_count": 5,
   "id": "12b0645f-177e-4765-9be2-f2b9839f2764",
   "metadata": {
    "tags": []
   },
   "outputs": [],
   "source": [
    "def model_simulations_smith1998(plot='main'):\n",
    "\n",
    "    models = ['smith1998', 'ermi', 'synthetic', 'llm'] if plot == 'main' else ['smith1998', 'ermi', 'syntheticnonlinear']#'human'\n",
    "    f, ax = plt.subplots(1, len(models), figsize=(5*len(models),5))\n",
    "    colors = ['#173b4f', '#748995']##5d7684']\n",
    "    # colors = ['#173b4f', '#4d6a75', '#5d7684', '#748995','#4d6a75', '#0d2c3d', '#a2c0a9', '#2f4a5a', '#8b9da7']\n",
    "    num_blocks = None\n",
    "    for idx, model in enumerate(models):\n",
    "        if model=='smith1998':\n",
    "       \n",
    "            with open(f'{SYS_PATH}/categorisation/data/human/{model}.json') as file:\n",
    "                human_data = json.load(file)\n",
    "\n",
    "            # human data procesing\n",
    "            fits_gcm, fits_pm = {}, {}\n",
    "            mses_gcm = np.array(human_data['exemplar']['y'])\n",
    "            mses_pm = np.array(human_data['prototype']['y'])\n",
    "            # std error of mean across participants set to 0.\n",
    "            stds_gcm = np.zeros_like(mses_gcm)\n",
    "            stds_pm = np.zeros_like(mses_pm)\n",
    "            # unsquezze to add a dimension for participants\n",
    "            mses_gcm = np.expand_dims(mses_gcm, axis=0)\n",
    "            mses_pm = np.expand_dims(mses_pm, axis=0)\n",
    "    \n",
    "        else:\n",
    "\n",
    "            fits_gcm = np.load(f'{SYS_PATH}/categorisation/data/fitted_simulation/devraj2022_gcm_runs=1_iters=1_blocks=11_loss=mse_transfer_model={model}.npz')\n",
    "            fits_pm = np.load(f'{SYS_PATH}/categorisation/data/fitted_simulation/devraj2022_pm_runs=1_iters=1_blocks=11_loss=mse_transfer_model={model}.npz')\n",
    "            \n",
    "            # load mses\n",
    "            mses_gcm = fits_gcm['lls']\n",
    "            mses_pm = fits_pm['lls']\n",
    "            # mean mses across participants: mses are of shape (n_runs=1, n_participants, n_conditions=1, n_blocks)\n",
    "            mses_gcm = np.squeeze(mses_gcm)\n",
    "            mses_pm = np.squeeze(mses_pm)\n",
    "            # std error of mean across participants\n",
    "            stds_gcm = np.std(mses_gcm, axis=0)/np.sqrt(len(mses_gcm)-1)\n",
    "            stds_pm = np.std(mses_pm, axis=0)/np.sqrt(len(mses_pm)-1)\n",
    "             \n",
    "        # keep only the first num_blocks (useful when using smith1998 data)\n",
    "        num_blocks = 10 if 'smith1998' in models else 33\n",
    "        mses_gcm = mses_gcm[:, :num_blocks]\n",
    "        mses_pm = mses_pm[:, :num_blocks]\n",
    "        stds_gcm = stds_gcm[:num_blocks]\n",
    "        stds_pm = stds_pm[:num_blocks]\n",
    "    \n",
    "        # plot mean mses across participants for each trial segment for both models\n",
    "        sns.lineplot(x=np.arange(mses_pm.shape[1])+1, y=np.mean(mses_pm, axis=0), ax=ax[idx], color=colors[0], label='Protype-based', lw=3)\n",
    "        sns.lineplot(x=np.arange(mses_gcm.shape[1])+1, y=np.mean(mses_gcm, axis=0), ax=ax[idx], color=colors[1], label='Exemplar-based', lw=3)\n",
    "        # add standard error of mean as error bars\n",
    "        ax[idx].fill_between(np.arange(mses_pm.shape[1])+1, np.mean(mses_pm, axis=0)-stds_pm, np.mean(mses_pm, axis=0)+stds_pm, alpha=0.2, color=colors[0])\n",
    "        ax[idx].fill_between(np.arange(mses_gcm.shape[1])+1, np.mean(mses_gcm, axis=0)-stds_gcm, np.mean(mses_gcm, axis=0)+stds_gcm, alpha=0.2, color=colors[1])\n",
    "        ax[idx].set_ylim([-0.05, 3.])\n",
    "        ax[idx].set_xticks(np.arange(mses_gcm.shape[1])+1)\n",
    "        # set y ticks font size\n",
    "        ax[idx].tick_params(axis='y', labelsize=FONTSIZE-2)\n",
    "        ax[idx].set_xticklabels(np.arange(mses_gcm.shape[1])+1,fontsize=FONTSIZE-2)\n",
    "        if idx==0:\n",
    "            ax[idx].set_ylabel('Error', fontsize=FONTSIZE)\n",
    "            # remove bounding box around the legend\n",
    "            ax[idx].legend(frameon=False, fontsize=FONTSIZE-2)\n",
    "            ax[idx].set_title('Human', fontsize=FONTSIZE)\n",
    "            ax[idx].set_xlabel('Block', fontsize=FONTSIZE) #Trial segment\n",
    "        elif idx==1:\n",
    "            ax[idx].set_title('ERMI', fontsize=FONTSIZE)\n",
    "        elif idx==2:\n",
    "            ax[idx].set_title('MI' if plot == \"main\" else 'PFN', fontsize=FONTSIZE)\n",
    "        elif idx==3:\n",
    "            ax[idx].set_title('LLM' if plot == \"main\" else 'PFN', fontsize=FONTSIZE)\n",
    "            \n",
    "        \n",
    "        if idx!=0:\n",
    "            # remove legend\n",
    "            ax[idx].legend([], frameon=False, fontsize=FONTSIZE-2)\n",
    "        \n",
    "    sns.despine()\n",
    "    f.tight_layout()\n",
    "    plt.show()\n",
    "    f.savefig(f'{SYS_PATH}/figures/model_simulations_smith1998.png', bbox_inches='tight', dpi=300)\n"
   ]
  },
  {
   "cell_type": "code",
   "execution_count": 6,
   "id": "fc87f8b3-8ee4-4f11-a85b-950d023bc91a",
   "metadata": {},
   "outputs": [
    {
     "data": {
      "image/png": "[encoded data removed]",
      "text/plain": [
       "<Figure size 1440x360 with 4 Axes>"
      ]
     },
     "metadata": {
      "needs_background": "light"
     },
     "output_type": "display_data"
    }
   ],
   "source": [
    "model_simulations_smith1998('main')"
   ]
  },
  {
   "cell_type": "code",
   "execution_count": null,
   "id": "dd5ab678-cabd-45ed-9a98-b834332ee06a",
   "metadata": {},
   "outputs": [],
   "source": []
  },
  {
   "cell_type": "code",
   "execution_count": 3,
   "id": "cb2e4848-9967-469e-a2bd-91808dfd6963",
   "metadata": {},
   "outputs": [
    {
     "data": {
      "image/png": "[encoded data removed]",
      "text/plain": [
       "<Figure size 540x360 with 1 Axes>"
      ]
     },
     "metadata": {
      "needs_background": "light"
     },
     "output_type": "display_data"
    }
   ],
   "source": [
    "from groupBMC.groupBMC import GroupBMC\n",
    "import pandas as pd\n",
    "import seaborn as sns\n",
    "import numpy as np\n",
    "import matplotlib.pyplot as plt\n",
    "mean_performance = pd.read_csv('../categorisation/data/openMLCC18/mean_performance.csv')\n",
    "LogEvidence = mean_performance.values[:, 1:-1].T\n",
    "result = GroupBMC(LogEvidence).get_result()\n",
    "\n",
    "models = list(mean_performance.columns.values[1:-1])\n",
    "models[0] = 'Logistic \\n Regression'\n",
    "# rename models for plot\n",
    "colors = ['#173b4f', '#8b9da7', '#5d7684', '#2f4a5a', '#0d2c3d', '#4d6a75', '#748995', '#a2c0a9', '#c4d9c2']\n",
    "# sort result in descending order\n",
    "sort_order = np.argsort(result.exceedance_probability)[::-1]\n",
    "result.exceedance_probability = result.exceedance_probability[sort_order]\n",
    "models = np.array(models)[sort_order]\n",
    "colors = np.array(colors)[sort_order]\n",
    "FIGSIZE=(7.5,5)\n",
    "FONTSIZE=20\n",
    "horizontal = False\n",
    "f, ax = plt.subplots(1, 1, figsize=FIGSIZE)\n",
    "if horizontal:\n",
    "    # composed\n",
    "    ax.barh(np.arange(len(models)), result.exceedance_probability, align='center', color=colors[:len(models)], height=0.6)#, hatch='//', label='Compostional Subtask')\n",
    "    # plt.legend(fontsize=FONTSIZE-4, frameon=False)\n",
    "    ax.set_ylabel('Models', fontsize=FONTSIZE)\n",
    "    # ax.set_xlim(0, 0.7)\n",
    "    ax.set_xlabel('Exceedance probability', fontsize=FONTSIZE) \n",
    "    plt.yticks(ticks=np.arange(len(models)), labels=models, fontsize=FONTSIZE-3.)\n",
    "    # ax.set_xticks(np.arange(0, result.exceedance_probability.max(), 0.1))\n",
    "    plt.xticks(fontsize=FONTSIZE-4)\n",
    "else:\n",
    "    # composed\n",
    "    bar_positions = np.arange(len(result.exceedance_probability))*0.5\n",
    "    ax.bar(bar_positions, result.exceedance_probability, color=colors, width=0.4)\n",
    "    # plt.legend(fontsize=FONTSIZE, frameon=False)\n",
    "    ax.set_xlabel('Models', fontsize=FONTSIZE)\n",
    "    # ax.set_ylim(0, 0.7)\n",
    "    ax.set_ylabel('Exceedance probability', fontsize=FONTSIZE) \n",
    "    ax.set_xticks(bar_positions)  # Set x-tick positions to bar_positions\n",
    "    ax.set_xticklabels(models, fontsize=FONTSIZE-2)  # Assign category names to x-tick labels\n",
    "    plt.yticks(fontsize=FONTSIZE-2)\n",
    "\n",
    "ax.set_title(f'Model Comparison', fontsize=FONTSIZE)\n",
    "sns.despine()\n",
    "f.tight_layout()\n",
    "# f.savefig(f'{SYS_PATH}/figures/exceedance_probability_{task_name}.svg', bbox_inches='tight', dpi=300)\n",
    "plt.show()"
   ]
  },
  {
   "cell_type": "code",
   "execution_count": 10,
   "id": "a469f42c-873d-4af9-b149-741e7b9aa968",
   "metadata": {},
   "outputs": [
    {
     "data": {
      "text/plain": [
       "array([0.19968828, 0.19969535, 0.19984014, 0.20006441, 0.20071182])"
      ]
     },
     "execution_count": 10,
     "metadata": {},
     "output_type": "execute_result"
    }
   ],
   "source": [
    "result.protected_exceedance_probability"
   ]
  },
  {
   "cell_type": "code",
   "execution_count": 5,
   "id": "725f1f4c-2208-46c8-a2ab-7b3397b7a61c",
   "metadata": {},
   "outputs": [
    {
     "data": {
      "text/plain": [
       "(array([6.56656100e-01, 2.41321635e-01, 9.74459110e-02, 4.55685213e-03,\n",
       "        1.95017171e-05]),\n",
       " array(['ERMI', 'TabPFN', 'XGBoost', 'SVM', 'Logistic \\n Regression'],\n",
       "       dtype='<U21'))"
      ]
     },
     "execution_count": 5,
     "metadata": {},
     "output_type": "execute_result"
    }
   ],
   "source": [
    "result.exceedance_probability, models"
   ]
  },
  {
   "cell_type": "code",
   "execution_count": 68,
   "id": "f0e73bf2-91cb-4d38-98ef-b1d3fbaad132",
   "metadata": {},
   "outputs": [
    {
     "data": {
      "text/plain": [
       "23"
      ]
     },
     "execution_count": 68,
     "metadata": {},
     "output_type": "execute_result"
    }
   ],
   "source": [
    "len(mean_performance)"
   ]
  },
  {
   "cell_type": "markdown",
   "id": "6ec00820-afb8-4d87-b1f2-7f07ef4c18e9",
   "metadata": {
    "tags": []
   },
   "source": [
    "## six rules"
   ]
  },
  {
   "cell_type": "code",
   "execution_count": 1,
   "id": "7f29afeb-be93-4ed5-8230-42c69c6dce5a",
   "metadata": {},
   "outputs": [],
   "source": [
    "import pandas as pd\n",
    "import numpy as np\n",
    "import matplotlib.pyplot as plt"
   ]
  },
  {
   "cell_type": "code",
   "execution_count": 2,
   "id": "191c0fcb-2446-4475-92c5-4d8c07cd0b39",
   "metadata": {},
   "outputs": [
    {
     "name": "stderr",
     "output_type": "stream",
     "text": [
      "/u/ajagadish/.local/lib/python3.9/site-packages/IPython/core/interactiveshell.py:3508: DtypeWarning: Columns (14,15) have mixed types.Specify dtype option on import or set low_memory=False.\n",
      "  exec(code_obj, self.user_global_ns, self.user_ns)\n"
     ]
    }
   ],
   "source": [
    "datas = pd.read_csv('../categorisation/data/llm/shepard1961_llm_choices_match_ermi.csv')\n",
    "categories = {'j': 'A', 'f': 'B'}\n",
    "datas['human_category']=datas['choice'].map(categories)"
   ]
  },
  {
   "cell_type": "raw",
   "id": "a775da94-4247-4d37-ac2d-11d0f7ec7081",
   "metadata": {},
   "source": [
    "datas"
   ]
  },
  {
   "cell_type": "raw",
   "id": "a1e0f753-0c6e-48fe-a4fe-e30fb95f24d5",
   "metadata": {},
   "source": [
    "load_data = pd.read_csv('../categorisation/data/human/badham2017deficitsllm_choiceshuman_allparticipants.csv')"
   ]
  },
  {
   "cell_type": "code",
   "execution_count": 28,
   "id": "bb141a4a-1b43-46e5-b5eb-c49e6b5ea6bb",
   "metadata": {},
   "outputs": [],
   "source": [
    "num_participants = 94\n",
    "num_rules = 6\n",
    "num_block = 6\n",
    "correct = np.ones((num_rules, num_participants, 96))\n",
    "human_correct = np.ones((num_rules, num_participants, 96))\n",
    "block_errors = np.ones((num_rules, num_block))\n",
    "\n",
    "datas = pd.read_csv('../categorisation/data/llm/shepard1961_llm_choices_match_ermi.csv')\n",
    "categories = {'j': 'A', 'f': 'B'}\n",
    "datas['human_category']=datas['choice'].map(categories)\n",
    "\n",
    "\n",
    "for participant_id  in range(num_participants):#= 4\n",
    "    for cond in datas.condition.unique(): #datas.condition.nunique()):\n",
    "        if cond<=4:\n",
    "            load_data = pd.read_csv('../categorisation/data/llm/badham2017deficits_llm_choicesmatch_ermi.csv')\n",
    "        else:\n",
    "            load_data = pd.read_csv('../categorisation/data/llm/shepard1961_llm_choices_match_ermi.csv')\n",
    "        data = load_data[load_data.condition==cond]\n",
    "        correct_trials = data[data.participant==participant_id].llm_category.values==data[data.participant==participant_id].true_category.values\n",
    "        # print(len(data[data.participant==participant_id]))\n",
    "        correct[cond-1, participant_id, :len(correct_trials)] = correct_trials\n",
    "        \n",
    "        human_correct_trials = data[data.participant==participant_id].choice.values==data[data.participant==participant_id].correct_choice.values\n",
    "        human_correct[cond-1, participant_id,:len(correct_trials)] = human_correct_trials\n",
    "        #plt.plot(data[data.participant==participant_id].llm_category.values==data[data.participant==participant_id].true_category.values\n",
    "\n",
    "for cond in datas.condition.unique():\n",
    "    block_errors[cond-1] = 1-correct[cond-1].mean(0).reshape(96//16, 16).mean(1)\n",
    "np.savez(f'{SYS_PATH}/categorisation/data/stats/shepard1961_llm_simulations.npz', block_errors=block_errors)"
   ]
  },
  {
   "cell_type": "code",
   "execution_count": null,
   "id": "7cb4f443-de84-4aa2-976f-4abecda4a708",
   "metadata": {},
   "outputs": [],
   "source": []
  },
  {
   "cell_type": "code",
   "execution_count": 6,
   "id": "b22527dd-603d-4990-8620-5f65b9a84163",
   "metadata": {},
   "outputs": [],
   "source": []
  },
  {
   "cell_type": "code",
   "execution_count": null,
   "id": "22e1848a-0faf-4239-9c0c-a0b246eb661e",
   "metadata": {},
   "outputs": [],
   "source": []
  },
  {
   "cell_type": "code",
   "execution_count": 10,
   "id": "d2fa2f4c-a26f-4acb-8263-54fa4b5adb88",
   "metadata": {},
   "outputs": [
    {
     "data": {
      "image/png": "[encoded data removed]",
      "text/plain": [
       "<Figure size 360x360 with 1 Axes>"
      ]
     },
     "metadata": {
      "needs_background": "light"
     },
     "output_type": "display_data"
    }
   ],
   "source": [
    "plt.figure(figsize=(5,5))\n",
    "for cond in range(datas.condition.nunique()):\n",
    "    plt.plot(1-correct[cond].mean(0), label = [\"Type ONE\", \"Type TWO\", \"Type THREE\", \"Type FOUR\", \"Type FIVE\", \"Type SIX\"][cond])\n",
    "plt.title(\"Claude's simulations\", fontsize=16)\n",
    "plt.xlabel(\"Trials\", fontsize=14)\n",
    "plt.ylabel(\"Mean error\", fontsize=14)\n",
    "plt.legend(frameon=False)#, fontsize=14)\n",
    "plt.show()"
   ]
  },
  {
   "cell_type": "markdown",
   "id": "e1a6a1e2-0d3c-461b-9fa8-8128449fcaa2",
   "metadata": {},
   "source": []
  },
  {
   "cell_type": "raw",
   "id": "8feaf07d-3e3a-4fbd-84a5-1b67dce29f7b",
   "metadata": {},
   "source": [
    "import json\n",
    "# load json file containing the data\n",
    "SYS_PATH = '/u/ajagadish/ermi/'\n",
    "with open(f'{SYS_PATH}/categorisation/data/human/nosofsky1994.json') as json_file:\n",
    "    data = json.load(json_file)\n",
    "\n",
    "mse_distance = np.zeros((10, 1))\n",
    "aa = []\n",
    "for idx, eps in enumerate([0.]):#np.arange(0, 1, 0.1)\n",
    "    for t_idx, rule in enumerate(data.keys()):\n",
    "        block_errors = 1-correct[t_idx].mean(0).reshape(96//16, 16).mean(1) + eps\n",
    "        human_block_error = data[rule]['y'][:(96//16)]\n",
    "        aa.append(human_block_error)\n",
    "        # compute mse between human and model error rates for a model summed across tasks\n",
    "        mse_distance[idx] += np.mean((block_errors-human_block_error)**2)\n",
    "        print(f\"eps: {eps}, rule: {rule}, mse: {np.mean((block_errors-human_block_error)**2)}\") "
   ]
  },
  {
   "cell_type": "raw",
   "id": "82065d1d-59f4-495c-a669-efcd3561a7eb",
   "metadata": {},
   "source": [
    "aa"
   ]
  },
  {
   "cell_type": "raw",
   "id": "a83b9c02-d96b-40ba-8128-8d5781eb07be",
   "metadata": {},
   "source": [
    "ermi = [0.09118815, 0.13745117, 0.13166992, 0.12476562, 0.13608724, 0.17980143]\n",
    "mi = [0.09587565, 0.43374674, 0.26553385, 0.16566406, 0.31748047, 0.43873698]\n",
    "rmc = [0.15931641, 0.274375, 0.23145508 ,0.21645182, 0.25762695, 0.38454102]\n",
    "pfn = [0.04015625, 0.39083008, 0.18872396, 0.05267253, 0.27216471, 0.42367839]"
   ]
  },
  {
   "cell_type": "code",
   "execution_count": 11,
   "id": "cf8b3739-9c94-4270-9aab-ab11b62f70ed",
   "metadata": {},
   "outputs": [
    {
     "name": "stdout",
     "output_type": "stream",
     "text": [
      "mean error for type 0: 0.020611702127659576\n",
      "mean error for type 1: 0.052194148936170214\n",
      "mean error for type 2: 0.040447695035460994\n",
      "mean error for type 3: 0.03679078014184397\n",
      "mean error for type 4: 0.048204787234042555\n",
      "mean error for type 5: 0.07524379432624112\n"
     ]
    },
    {
     "name": "stderr",
     "output_type": "stream",
     "text": [
      "/u/ajagadish/.local/lib/python3.9/site-packages/IPython/core/interactiveshell.py:3508: DtypeWarning: Columns (14,15) have mixed types.Specify dtype option on import or set low_memory=False.\n",
      "  exec(code_obj, self.user_global_ns, self.user_ns)\n"
     ]
    },
    {
     "data": {
      "image/png": "[encoded data removed]",
      "text/plain": [
       "<Figure size 432x360 with 1 Axes>"
      ]
     },
     "metadata": {
      "needs_background": "light"
     },
     "output_type": "display_data"
    }
   ],
   "source": [
    "import seaborn as sns\n",
    "# datas = pd.read_csv('../categorisation/data/human/badham2017deficitsllm_choiceshuman_allparticipants.csv')\n",
    "datas = pd.read_csv('../categorisation/data/llm/shepard1961_llm_choices_match_ermi.csv')\n",
    "models = ['LLM']\n",
    "FONTSIZE=20\n",
    "f, axes = plt.subplots(1, len(models), figsize=(6*len(models), 5))\n",
    "colors = ['#E0E1DD', '#B6B9B9', '#8C9295', '#616A72','#37434E','#0D1B2A']\n",
    "# markers for the six types of rules in the plot: circle, cross, plus, inverted triangle, asterisk, triangle\n",
    "markers = ['o', 'x', '+', '*', 'v', '^']\n",
    "num_blocks = 6\n",
    "for idx, ax in enumerate([axes]):\n",
    "\n",
    "    for cond in range(datas.condition.nunique()):\n",
    "        mean_cond = 1-correct[cond].mean(0).reshape(96//16, 16).mean(1) #+ 0.1\n",
    "        std_cond = correct[cond].std(0).reshape(96//16, 16).mean(1)/np.sqrt(num_participants)\n",
    "        ax.plot(np.arange(96//16)+1, mean_cond, label=f'Type {cond}', lw=3, color=colors[cond], marker=markers[cond], markersize=8)\n",
    "        print(f'mean error for type {cond}: {mean_cond.mean()}')   \n",
    "    if idx==0:\n",
    "        ax.set_title('LLM', fontsize=FONTSIZE)\n",
    "\n",
    "    ax.set_xticks(np.arange(1, num_blocks+1))\n",
    "    if idx==0:\n",
    "        ax.set_xlabel('Block', fontsize=FONTSIZE)\n",
    "        ax.set_ylabel('P(Error)', fontsize=FONTSIZE)\n",
    "    ax.set_ylim([-0.01, .55])\n",
    "    # locs, labels = ax.get_xticks(), ax.get_xticklabels()\n",
    "    # Set new x-tick locations and labels\n",
    "    ax.set_xticks(np.arange(1, num_blocks+1)[::2])\n",
    "    ax.set_xticklabels(np.arange(1, num_blocks+1)[::2], fontsize=FONTSIZE-2)\n",
    "    ax.tick_params(axis='y', labelsize=FONTSIZE-2)       \n",
    "\n",
    "# add legend that spans across all subplots, in one row, at the center for the subplots, and place it outside the plot \n",
    "# f.legend(loc='upper center', bbox_to_anchor=(0.5, 1.1), ncol=6, fontsize=FONTSIZE-2, frameon=False, labels=[f'TYPE {task}' for task in tasks])\n",
    "sns.despine()\n",
    "f.tight_layout()\n",
    "plt.show()"
   ]
  },
  {
   "cell_type": "markdown",
   "id": "e2ae515f-bf6b-4e74-a42e-5d66115b11c2",
   "metadata": {},
   "source": [
    "## smith and tassk"
   ]
  },
  {
   "cell_type": "code",
   "execution_count": 7,
   "id": "753a77f7-df1d-434e-8e52-cf4f2d79d650",
   "metadata": {},
   "outputs": [
    {
     "name": "stderr",
     "output_type": "stream",
     "text": [
      "<ipython-input-7-7cfd7d3423dd>:1: DtypeWarning: Columns (23,24) have mixed types. Specify dtype option on import or set low_memory=False.\n",
      "  datas = pd.read_csv('../categorisation/data/human/devraj2022rationalllm_choiceshuman.csv')\n"
     ]
    }
   ],
   "source": [
    "datas = pd.read_csv('../categorisation/data/human/devraj2022rationalllm_choiceshuman.csv')\n",
    "# find the unique true_category in each participant \n",
    "unique_categories = datas.groupby('participant')['true_category'].unique()\n",
    "# print(unique_categories)\n",
    "for participant_id in datas.participant.unique()[:16]:\n",
    "    datas.loc[datas.participant==participant_id, 'true_category'] = datas.loc[datas.participant==participant_id, 'true_category'].map({unique_categories[participant_id][0]: 0, unique_categories[participant_id][1]: 1})\n",
    "    datas.loc[datas.participant==participant_id, 'llm_category'] = datas.loc[datas.participant==participant_id, 'llm_category'].map({unique_categories[participant_id][0]: 0, unique_categories[participant_id][1]: 1})\n",
    "# datas"
   ]
  },
  {
   "cell_type": "code",
   "execution_count": 38,
   "id": "7717b18d",
   "metadata": {},
   "outputs": [
    {
     "data": {
      "text/html": [
       "<div>\n",
       "<style scoped>\n",
       "    .dataframe tbody tr th:only-of-type {\n",
       "        vertical-align: middle;\n",
       "    }\n",
       "\n",
       "    .dataframe tbody tr th {\n",
       "        vertical-align: top;\n",
       "    }\n",
       "\n",
       "    .dataframe thead th {\n",
       "        text-align: right;\n",
       "    }\n",
       "</style>\n",
       "<table border=\"1\" class=\"dataframe\">\n",
       "  <thead>\n",
       "    <tr style=\"text-align: right;\">\n",
       "      <th></th>\n",
       "      <th>participant</th>\n",
       "      <th>task</th>\n",
       "      <th>trial</th>\n",
       "      <th>choice</th>\n",
       "      <th>correct_choice</th>\n",
       "      <th>block</th>\n",
       "      <th>trial_segment</th>\n",
       "      <th>condition</th>\n",
       "      <th>category</th>\n",
       "      <th>all_features</th>\n",
       "      <th>...</th>\n",
       "      <th>feature6</th>\n",
       "      <th>stimulus_id</th>\n",
       "      <th>prototype_feature1</th>\n",
       "      <th>prototype_feature2</th>\n",
       "      <th>prototype_feature3</th>\n",
       "      <th>prototype_feature4</th>\n",
       "      <th>prototype_feature5</th>\n",
       "      <th>prototype_feature6</th>\n",
       "      <th>llm_category</th>\n",
       "      <th>true_category</th>\n",
       "    </tr>\n",
       "  </thead>\n",
       "  <tbody>\n",
       "    <tr>\n",
       "      <th>0</th>\n",
       "      <td>0</td>\n",
       "      <td>0</td>\n",
       "      <td>0</td>\n",
       "      <td>1</td>\n",
       "      <td>0</td>\n",
       "      <td>0</td>\n",
       "      <td>0</td>\n",
       "      <td>control</td>\n",
       "      <td>1</td>\n",
       "      <td>[1, 0, 0, 0, 0, 0]</td>\n",
       "      <td>...</td>\n",
       "      <td>0</td>\n",
       "      <td>1.0</td>\n",
       "      <td>0.0</td>\n",
       "      <td>0.0</td>\n",
       "      <td>0.0</td>\n",
       "      <td>0.0</td>\n",
       "      <td>0.0</td>\n",
       "      <td>0.0</td>\n",
       "      <td>1</td>\n",
       "      <td>0</td>\n",
       "    </tr>\n",
       "    <tr>\n",
       "      <th>1</th>\n",
       "      <td>0</td>\n",
       "      <td>0</td>\n",
       "      <td>1</td>\n",
       "      <td>1</td>\n",
       "      <td>0</td>\n",
       "      <td>0</td>\n",
       "      <td>0</td>\n",
       "      <td>control</td>\n",
       "      <td>1</td>\n",
       "      <td>[0, 1, 0, 0, 0, 0]</td>\n",
       "      <td>...</td>\n",
       "      <td>0</td>\n",
       "      <td>2.0</td>\n",
       "      <td>0.0</td>\n",
       "      <td>0.0</td>\n",
       "      <td>0.0</td>\n",
       "      <td>0.0</td>\n",
       "      <td>0.0</td>\n",
       "      <td>0.0</td>\n",
       "      <td>1</td>\n",
       "      <td>0</td>\n",
       "    </tr>\n",
       "    <tr>\n",
       "      <th>2</th>\n",
       "      <td>0</td>\n",
       "      <td>0</td>\n",
       "      <td>2</td>\n",
       "      <td>0</td>\n",
       "      <td>0</td>\n",
       "      <td>0</td>\n",
       "      <td>0</td>\n",
       "      <td>control</td>\n",
       "      <td>1</td>\n",
       "      <td>[0, 0, 0, 0, 0, 1]</td>\n",
       "      <td>...</td>\n",
       "      <td>1</td>\n",
       "      <td>5.0</td>\n",
       "      <td>0.0</td>\n",
       "      <td>0.0</td>\n",
       "      <td>0.0</td>\n",
       "      <td>0.0</td>\n",
       "      <td>0.0</td>\n",
       "      <td>0.0</td>\n",
       "      <td>1</td>\n",
       "      <td>0</td>\n",
       "    </tr>\n",
       "    <tr>\n",
       "      <th>3</th>\n",
       "      <td>0</td>\n",
       "      <td>0</td>\n",
       "      <td>3</td>\n",
       "      <td>0</td>\n",
       "      <td>1</td>\n",
       "      <td>0</td>\n",
       "      <td>0</td>\n",
       "      <td>control</td>\n",
       "      <td>2</td>\n",
       "      <td>[1, 1, 0, 1, 1, 1]</td>\n",
       "      <td>...</td>\n",
       "      <td>1</td>\n",
       "      <td>10.0</td>\n",
       "      <td>1.0</td>\n",
       "      <td>1.0</td>\n",
       "      <td>1.0</td>\n",
       "      <td>1.0</td>\n",
       "      <td>1.0</td>\n",
       "      <td>1.0</td>\n",
       "      <td>0</td>\n",
       "      <td>1</td>\n",
       "    </tr>\n",
       "    <tr>\n",
       "      <th>4</th>\n",
       "      <td>0</td>\n",
       "      <td>0</td>\n",
       "      <td>4</td>\n",
       "      <td>1</td>\n",
       "      <td>0</td>\n",
       "      <td>0</td>\n",
       "      <td>0</td>\n",
       "      <td>control</td>\n",
       "      <td>1</td>\n",
       "      <td>[1, 1, 1, 1, 0, 1]</td>\n",
       "      <td>...</td>\n",
       "      <td>1</td>\n",
       "      <td>6.0</td>\n",
       "      <td>0.0</td>\n",
       "      <td>0.0</td>\n",
       "      <td>0.0</td>\n",
       "      <td>0.0</td>\n",
       "      <td>0.0</td>\n",
       "      <td>0.0</td>\n",
       "      <td>0</td>\n",
       "      <td>0</td>\n",
       "    </tr>\n",
       "    <tr>\n",
       "      <th>...</th>\n",
       "      <td>...</td>\n",
       "      <td>...</td>\n",
       "      <td>...</td>\n",
       "      <td>...</td>\n",
       "      <td>...</td>\n",
       "      <td>...</td>\n",
       "      <td>...</td>\n",
       "      <td>...</td>\n",
       "      <td>...</td>\n",
       "      <td>...</td>\n",
       "      <td>...</td>\n",
       "      <td>...</td>\n",
       "      <td>...</td>\n",
       "      <td>...</td>\n",
       "      <td>...</td>\n",
       "      <td>...</td>\n",
       "      <td>...</td>\n",
       "      <td>...</td>\n",
       "      <td>...</td>\n",
       "      <td>...</td>\n",
       "      <td>...</td>\n",
       "    </tr>\n",
       "    <tr>\n",
       "      <th>73915</th>\n",
       "      <td>119</td>\n",
       "      <td>0</td>\n",
       "      <td>611</td>\n",
       "      <td>1</td>\n",
       "      <td>1</td>\n",
       "      <td>43</td>\n",
       "      <td>10</td>\n",
       "      <td>experimental</td>\n",
       "      <td>2</td>\n",
       "      <td>[1, 1, 1, 1, 1, 1]</td>\n",
       "      <td>...</td>\n",
       "      <td>1</td>\n",
       "      <td>7.0</td>\n",
       "      <td>1.0</td>\n",
       "      <td>1.0</td>\n",
       "      <td>1.0</td>\n",
       "      <td>1.0</td>\n",
       "      <td>1.0</td>\n",
       "      <td>1.0</td>\n",
       "      <td>NaN</td>\n",
       "      <td>NaN</td>\n",
       "    </tr>\n",
       "    <tr>\n",
       "      <th>73916</th>\n",
       "      <td>119</td>\n",
       "      <td>0</td>\n",
       "      <td>612</td>\n",
       "      <td>1</td>\n",
       "      <td>1</td>\n",
       "      <td>43</td>\n",
       "      <td>10</td>\n",
       "      <td>experimental</td>\n",
       "      <td>2</td>\n",
       "      <td>[1, 1, 1, 1, 1, 1]</td>\n",
       "      <td>...</td>\n",
       "      <td>1</td>\n",
       "      <td>7.0</td>\n",
       "      <td>1.0</td>\n",
       "      <td>1.0</td>\n",
       "      <td>1.0</td>\n",
       "      <td>1.0</td>\n",
       "      <td>1.0</td>\n",
       "      <td>1.0</td>\n",
       "      <td>NaN</td>\n",
       "      <td>NaN</td>\n",
       "    </tr>\n",
       "    <tr>\n",
       "      <th>73917</th>\n",
       "      <td>119</td>\n",
       "      <td>0</td>\n",
       "      <td>613</td>\n",
       "      <td>1</td>\n",
       "      <td>1</td>\n",
       "      <td>43</td>\n",
       "      <td>10</td>\n",
       "      <td>experimental</td>\n",
       "      <td>2</td>\n",
       "      <td>[1, 1, 0, 1, 1, 1]</td>\n",
       "      <td>...</td>\n",
       "      <td>1</td>\n",
       "      <td>10.0</td>\n",
       "      <td>1.0</td>\n",
       "      <td>1.0</td>\n",
       "      <td>1.0</td>\n",
       "      <td>1.0</td>\n",
       "      <td>1.0</td>\n",
       "      <td>1.0</td>\n",
       "      <td>NaN</td>\n",
       "      <td>NaN</td>\n",
       "    </tr>\n",
       "    <tr>\n",
       "      <th>73918</th>\n",
       "      <td>119</td>\n",
       "      <td>0</td>\n",
       "      <td>614</td>\n",
       "      <td>1</td>\n",
       "      <td>1</td>\n",
       "      <td>43</td>\n",
       "      <td>10</td>\n",
       "      <td>experimental</td>\n",
       "      <td>2</td>\n",
       "      <td>[1, 1, 0, 1, 1, 1]</td>\n",
       "      <td>...</td>\n",
       "      <td>1</td>\n",
       "      <td>10.0</td>\n",
       "      <td>1.0</td>\n",
       "      <td>1.0</td>\n",
       "      <td>1.0</td>\n",
       "      <td>1.0</td>\n",
       "      <td>1.0</td>\n",
       "      <td>1.0</td>\n",
       "      <td>NaN</td>\n",
       "      <td>NaN</td>\n",
       "    </tr>\n",
       "    <tr>\n",
       "      <th>73919</th>\n",
       "      <td>119</td>\n",
       "      <td>0</td>\n",
       "      <td>615</td>\n",
       "      <td>1</td>\n",
       "      <td>1</td>\n",
       "      <td>43</td>\n",
       "      <td>10</td>\n",
       "      <td>experimental</td>\n",
       "      <td>2</td>\n",
       "      <td>[1, 1, 0, 1, 1, 1]</td>\n",
       "      <td>...</td>\n",
       "      <td>1</td>\n",
       "      <td>10.0</td>\n",
       "      <td>1.0</td>\n",
       "      <td>1.0</td>\n",
       "      <td>1.0</td>\n",
       "      <td>1.0</td>\n",
       "      <td>1.0</td>\n",
       "      <td>1.0</td>\n",
       "      <td>NaN</td>\n",
       "      <td>NaN</td>\n",
       "    </tr>\n",
       "  </tbody>\n",
       "</table>\n",
       "<p>73920 rows × 25 columns</p>\n",
       "</div>"
      ],
      "text/plain": [
       "       participant  task  trial  choice  correct_choice  block  trial_segment   \n",
       "0                0     0      0       1               0      0              0  \\\n",
       "1                0     0      1       1               0      0              0   \n",
       "2                0     0      2       0               0      0              0   \n",
       "3                0     0      3       0               1      0              0   \n",
       "4                0     0      4       1               0      0              0   \n",
       "...            ...   ...    ...     ...             ...    ...            ...   \n",
       "73915          119     0    611       1               1     43             10   \n",
       "73916          119     0    612       1               1     43             10   \n",
       "73917          119     0    613       1               1     43             10   \n",
       "73918          119     0    614       1               1     43             10   \n",
       "73919          119     0    615       1               1     43             10   \n",
       "\n",
       "          condition  category        all_features  ...  feature6  stimulus_id   \n",
       "0           control         1  [1, 0, 0, 0, 0, 0]  ...         0          1.0  \\\n",
       "1           control         1  [0, 1, 0, 0, 0, 0]  ...         0          2.0   \n",
       "2           control         1  [0, 0, 0, 0, 0, 1]  ...         1          5.0   \n",
       "3           control         2  [1, 1, 0, 1, 1, 1]  ...         1         10.0   \n",
       "4           control         1  [1, 1, 1, 1, 0, 1]  ...         1          6.0   \n",
       "...             ...       ...                 ...  ...       ...          ...   \n",
       "73915  experimental         2  [1, 1, 1, 1, 1, 1]  ...         1          7.0   \n",
       "73916  experimental         2  [1, 1, 1, 1, 1, 1]  ...         1          7.0   \n",
       "73917  experimental         2  [1, 1, 0, 1, 1, 1]  ...         1         10.0   \n",
       "73918  experimental         2  [1, 1, 0, 1, 1, 1]  ...         1         10.0   \n",
       "73919  experimental         2  [1, 1, 0, 1, 1, 1]  ...         1         10.0   \n",
       "\n",
       "       prototype_feature1  prototype_feature2  prototype_feature3   \n",
       "0                     0.0                 0.0                 0.0  \\\n",
       "1                     0.0                 0.0                 0.0   \n",
       "2                     0.0                 0.0                 0.0   \n",
       "3                     1.0                 1.0                 1.0   \n",
       "4                     0.0                 0.0                 0.0   \n",
       "...                   ...                 ...                 ...   \n",
       "73915                 1.0                 1.0                 1.0   \n",
       "73916                 1.0                 1.0                 1.0   \n",
       "73917                 1.0                 1.0                 1.0   \n",
       "73918                 1.0                 1.0                 1.0   \n",
       "73919                 1.0                 1.0                 1.0   \n",
       "\n",
       "       prototype_feature4  prototype_feature5  prototype_feature6   \n",
       "0                     0.0                 0.0                 0.0  \\\n",
       "1                     0.0                 0.0                 0.0   \n",
       "2                     0.0                 0.0                 0.0   \n",
       "3                     1.0                 1.0                 1.0   \n",
       "4                     0.0                 0.0                 0.0   \n",
       "...                   ...                 ...                 ...   \n",
       "73915                 1.0                 1.0                 1.0   \n",
       "73916                 1.0                 1.0                 1.0   \n",
       "73917                 1.0                 1.0                 1.0   \n",
       "73918                 1.0                 1.0                 1.0   \n",
       "73919                 1.0                 1.0                 1.0   \n",
       "\n",
       "       llm_category  true_category  \n",
       "0                 1              0  \n",
       "1                 1              0  \n",
       "2                 1              0  \n",
       "3                 0              1  \n",
       "4                 0              0  \n",
       "...             ...            ...  \n",
       "73915           NaN            NaN  \n",
       "73916           NaN            NaN  \n",
       "73917           NaN            NaN  \n",
       "73918           NaN            NaN  \n",
       "73919           NaN            NaN  \n",
       "\n",
       "[73920 rows x 25 columns]"
      ]
     },
     "execution_count": 38,
     "metadata": {},
     "output_type": "execute_result"
    }
   ],
   "source": [
    "datas"
   ]
  },
  {
   "cell_type": "code",
   "execution_count": 39,
   "id": "91304b96-c99d-4c12-a019-02c3975805e6",
   "metadata": {
    "tags": []
   },
   "outputs": [],
   "source": [
    "num_participants = 16 #datas.participant.max()\n",
    "correct = np.ones((1, num_participants, 616))\n",
    "human_correct = np.ones((1, num_participants, 616))\n",
    "\n",
    "for participant_id  in range(num_participants):#= 4\n",
    "    for cond in ['control']: #datas.condition.nunique()):\n",
    "        data = datas[datas.condition==cond]\n",
    "        correct_trials = data[data.participant==participant_id].llm_category.values==data[data.participant==participant_id].true_category.values\n",
    "        correct[0, participant_id, :len(correct_trials)] = correct_trials\n",
    "        \n",
    "        human_correct_trials = data[data.participant==participant_id].choice.values==data[data.participant==participant_id].correct_choice.values\n",
    "        human_correct[0, participant_id,:len(correct_trials)] = human_correct_trials\n",
    "        #plt.plot(data[data.participant==participant_id].llm_category.values==data[data.participant==participant_id].true_category.values)"
   ]
  },
  {
   "cell_type": "code",
   "execution_count": null,
   "id": "0d24ff69-ecdb-474f-a12b-0850235bbb5e",
   "metadata": {},
   "outputs": [],
   "source": []
  },
  {
   "cell_type": "code",
   "execution_count": 41,
   "id": "31a27fe7-28cb-45b3-9da7-13cd28b0bf8f",
   "metadata": {
    "tags": []
   },
   "outputs": [
    {
     "name": "stderr",
     "output_type": "stream",
     "text": [
      "No artists with labels found to put in legend.  Note that artists whose label start with an underscore are ignored when legend() is called with no argument.\n"
     ]
    },
    {
     "data": {
      "image/png": "[encoded data removed]",
      "text/plain": [
       "<Figure size 360x360 with 1 Axes>"
      ]
     },
     "metadata": {
      "needs_background": "light"
     },
     "output_type": "display_data"
    }
   ],
   "source": [
    "plt.figure(figsize=(5,5))\n",
    "# for cond in range(datas.condition.nunique()):\n",
    "#     plt.plot(1-correct[0].mean(0))\n",
    "mean_cond = 1-correct[0].mean(0).reshape(616//56, 56).mean(1)\n",
    "std_cond = correct[0].std(0).reshape(616//56, 56).mean(1)/np.sqrt(num_participants)\n",
    "plt.errorbar(np.arange(616//56)+1, mean_cond, yerr=std_cond)\n",
    "plt.title(\"LLM on Devraj task\", fontsize=16)\n",
    "plt.xlabel(\"Block\", fontsize=14)\n",
    "plt.ylabel(\"Mean error\", fontsize=14)\n",
    "plt.legend(frameon=False)#, fontsize=14)\n",
    "plt.show()"
   ]
  },
  {
   "cell_type": "code",
   "execution_count": null,
   "id": "2c3f9f53-cb3e-40aa-a87f-9f4c4fe981d2",
   "metadata": {},
   "outputs": [],
   "source": []
  },
  {
   "cell_type": "code",
   "execution_count": null,
   "id": "9843ca75-6b0b-43a2-830f-1682a790ffa8",
   "metadata": {},
   "outputs": [],
   "source": []
  },
  {
   "cell_type": "raw",
   "id": "760e8e12-65b7-4028-89f9-619d79a00b31",
   "metadata": {},
   "source": []
  },
  {
   "cell_type": "markdown",
   "id": "88c5224c-785a-4cc2-8a06-b742467d861e",
   "metadata": {},
   "source": [
    "## four rules"
   ]
  },
  {
   "cell_type": "code",
   "execution_count": 1,
   "id": "6616677c-2fe3-4e2b-98b1-373ffbc510f4",
   "metadata": {},
   "outputs": [],
   "source": [
    "import pandas as pd\n",
    "import numpy as np\n",
    "import matplotlib.pyplot as plt\n",
    "datas = pd.read_csv('../categorisation/data/llm/badham2017deficits_llm_choicesmatch_ermi.csv')"
   ]
  },
  {
   "cell_type": "code",
   "execution_count": 2,
   "id": "443d0c90-5171-4882-920a-17c776833b49",
   "metadata": {},
   "outputs": [],
   "source": [
    "categories = {'j': 'A', 'f': 'B'}\n",
    "datas['human_category']=datas['choice'].map(categories)"
   ]
  },
  {
   "cell_type": "code",
   "execution_count": 3,
   "id": "b7e52310-7fa0-4ffe-9b3c-323c8ae244bc",
   "metadata": {},
   "outputs": [],
   "source": [
    "num_participants = 94\n",
    "correct = np.ones((4, num_participants, 96))\n",
    "human_correct = np.ones((4, num_participants, 96))\n",
    "\n",
    "for participant_id  in range(num_participants):#= 4\n",
    "    for cond in datas.condition.unique(): #datas.condition.nunique()):\n",
    "        data = datas[datas.condition==cond]\n",
    "        correct_trials = data[data.participant==participant_id].llm_category.values==data[data.participant==participant_id].true_category.values\n",
    "        correct[cond-1, participant_id, :len(correct_trials)] = correct_trials\n",
    "        human_correct_trials = data[data.participant==participant_id].choice.values==data[data.participant==participant_id].correct_choice.values\n",
    "        human_correct[cond-1, participant_id,:len(correct_trials)] = human_correct_trials"
   ]
  },
  {
   "cell_type": "code",
   "execution_count": 4,
   "id": "cec76c11-a76c-4bfa-88ea-e9c774966f34",
   "metadata": {},
   "outputs": [
    {
     "data": {
      "text/html": [
       "<div>\n",
       "<style scoped>\n",
       "    .dataframe tbody tr th:only-of-type {\n",
       "        vertical-align: middle;\n",
       "    }\n",
       "\n",
       "    .dataframe tbody tr th {\n",
       "        vertical-align: top;\n",
       "    }\n",
       "\n",
       "    .dataframe thead th {\n",
       "        text-align: right;\n",
       "    }\n",
       "</style>\n",
       "<table border=\"1\" class=\"dataframe\">\n",
       "  <thead>\n",
       "    <tr style=\"text-align: right;\">\n",
       "      <th></th>\n",
       "      <th>participant</th>\n",
       "      <th>task</th>\n",
       "      <th>trial</th>\n",
       "      <th>choice</th>\n",
       "      <th>correct_choice</th>\n",
       "      <th>reward</th>\n",
       "      <th>block</th>\n",
       "      <th>condition</th>\n",
       "      <th>category</th>\n",
       "      <th>object</th>\n",
       "      <th>all_features</th>\n",
       "      <th>feature1</th>\n",
       "      <th>feature2</th>\n",
       "      <th>feature3</th>\n",
       "      <th>llm_category</th>\n",
       "      <th>true_category</th>\n",
       "      <th>human_category</th>\n",
       "    </tr>\n",
       "  </thead>\n",
       "  <tbody>\n",
       "    <tr>\n",
       "      <th>288</th>\n",
       "      <td>0</td>\n",
       "      <td>0</td>\n",
       "      <td>288</td>\n",
       "      <td>j</td>\n",
       "      <td>j</td>\n",
       "      <td>1.0</td>\n",
       "      <td>3</td>\n",
       "      <td>4</td>\n",
       "      <td>1</td>\n",
       "      <td>Small White Triangle</td>\n",
       "      <td>[0, 0, 0]</td>\n",
       "      <td>0</td>\n",
       "      <td>0</td>\n",
       "      <td>0</td>\n",
       "      <td>C</td>\n",
       "      <td>C</td>\n",
       "      <td>A</td>\n",
       "    </tr>\n",
       "    <tr>\n",
       "      <th>289</th>\n",
       "      <td>0</td>\n",
       "      <td>0</td>\n",
       "      <td>289</td>\n",
       "      <td>f</td>\n",
       "      <td>j</td>\n",
       "      <td>-1.0</td>\n",
       "      <td>3</td>\n",
       "      <td>4</td>\n",
       "      <td>1</td>\n",
       "      <td>Small Black Triangle</td>\n",
       "      <td>[0, 1, 0]</td>\n",
       "      <td>0</td>\n",
       "      <td>1</td>\n",
       "      <td>0</td>\n",
       "      <td>C</td>\n",
       "      <td>C</td>\n",
       "      <td>B</td>\n",
       "    </tr>\n",
       "    <tr>\n",
       "      <th>290</th>\n",
       "      <td>0</td>\n",
       "      <td>0</td>\n",
       "      <td>290</td>\n",
       "      <td>j</td>\n",
       "      <td>f</td>\n",
       "      <td>-1.0</td>\n",
       "      <td>3</td>\n",
       "      <td>4</td>\n",
       "      <td>0</td>\n",
       "      <td>Big White Triangle</td>\n",
       "      <td>[1, 0, 0]</td>\n",
       "      <td>1</td>\n",
       "      <td>0</td>\n",
       "      <td>0</td>\n",
       "      <td>Z</td>\n",
       "      <td>Z</td>\n",
       "      <td>A</td>\n",
       "    </tr>\n",
       "    <tr>\n",
       "      <th>291</th>\n",
       "      <td>0</td>\n",
       "      <td>0</td>\n",
       "      <td>291</td>\n",
       "      <td>j</td>\n",
       "      <td>j</td>\n",
       "      <td>1.0</td>\n",
       "      <td>3</td>\n",
       "      <td>4</td>\n",
       "      <td>1</td>\n",
       "      <td>Big Black Triangle</td>\n",
       "      <td>[1, 1, 0]</td>\n",
       "      <td>1</td>\n",
       "      <td>1</td>\n",
       "      <td>0</td>\n",
       "      <td>Z</td>\n",
       "      <td>C</td>\n",
       "      <td>A</td>\n",
       "    </tr>\n",
       "    <tr>\n",
       "      <th>292</th>\n",
       "      <td>0</td>\n",
       "      <td>0</td>\n",
       "      <td>292</td>\n",
       "      <td>j</td>\n",
       "      <td>j</td>\n",
       "      <td>1.0</td>\n",
       "      <td>3</td>\n",
       "      <td>4</td>\n",
       "      <td>1</td>\n",
       "      <td>Small Black Square</td>\n",
       "      <td>[0, 1, 1]</td>\n",
       "      <td>0</td>\n",
       "      <td>1</td>\n",
       "      <td>1</td>\n",
       "      <td>C</td>\n",
       "      <td>C</td>\n",
       "      <td>A</td>\n",
       "    </tr>\n",
       "    <tr>\n",
       "      <th>...</th>\n",
       "      <td>...</td>\n",
       "      <td>...</td>\n",
       "      <td>...</td>\n",
       "      <td>...</td>\n",
       "      <td>...</td>\n",
       "      <td>...</td>\n",
       "      <td>...</td>\n",
       "      <td>...</td>\n",
       "      <td>...</td>\n",
       "      <td>...</td>\n",
       "      <td>...</td>\n",
       "      <td>...</td>\n",
       "      <td>...</td>\n",
       "      <td>...</td>\n",
       "      <td>...</td>\n",
       "      <td>...</td>\n",
       "      <td>...</td>\n",
       "    </tr>\n",
       "    <tr>\n",
       "      <th>33195</th>\n",
       "      <td>94</td>\n",
       "      <td>0</td>\n",
       "      <td>91</td>\n",
       "      <td>f</td>\n",
       "      <td>j</td>\n",
       "      <td>-1.0</td>\n",
       "      <td>0</td>\n",
       "      <td>4</td>\n",
       "      <td>1</td>\n",
       "      <td>Small White Triangle</td>\n",
       "      <td>[0, 0, 0]</td>\n",
       "      <td>0</td>\n",
       "      <td>0</td>\n",
       "      <td>0</td>\n",
       "      <td>A</td>\n",
       "      <td>A</td>\n",
       "      <td>B</td>\n",
       "    </tr>\n",
       "    <tr>\n",
       "      <th>33196</th>\n",
       "      <td>94</td>\n",
       "      <td>0</td>\n",
       "      <td>92</td>\n",
       "      <td>f</td>\n",
       "      <td>f</td>\n",
       "      <td>1.0</td>\n",
       "      <td>0</td>\n",
       "      <td>4</td>\n",
       "      <td>0</td>\n",
       "      <td>Small White Square</td>\n",
       "      <td>[0, 0, 1]</td>\n",
       "      <td>0</td>\n",
       "      <td>0</td>\n",
       "      <td>1</td>\n",
       "      <td>Q</td>\n",
       "      <td>Q</td>\n",
       "      <td>B</td>\n",
       "    </tr>\n",
       "    <tr>\n",
       "      <th>33197</th>\n",
       "      <td>94</td>\n",
       "      <td>0</td>\n",
       "      <td>93</td>\n",
       "      <td>j</td>\n",
       "      <td>j</td>\n",
       "      <td>1.0</td>\n",
       "      <td>0</td>\n",
       "      <td>4</td>\n",
       "      <td>1</td>\n",
       "      <td>Small White Triangle</td>\n",
       "      <td>[0, 0, 0]</td>\n",
       "      <td>0</td>\n",
       "      <td>0</td>\n",
       "      <td>0</td>\n",
       "      <td>A</td>\n",
       "      <td>A</td>\n",
       "      <td>A</td>\n",
       "    </tr>\n",
       "    <tr>\n",
       "      <th>33198</th>\n",
       "      <td>94</td>\n",
       "      <td>0</td>\n",
       "      <td>94</td>\n",
       "      <td>f</td>\n",
       "      <td>f</td>\n",
       "      <td>1.0</td>\n",
       "      <td>0</td>\n",
       "      <td>4</td>\n",
       "      <td>0</td>\n",
       "      <td>Small Black Square</td>\n",
       "      <td>[0, 1, 1]</td>\n",
       "      <td>0</td>\n",
       "      <td>1</td>\n",
       "      <td>1</td>\n",
       "      <td>Q</td>\n",
       "      <td>Q</td>\n",
       "      <td>B</td>\n",
       "    </tr>\n",
       "    <tr>\n",
       "      <th>33199</th>\n",
       "      <td>94</td>\n",
       "      <td>0</td>\n",
       "      <td>95</td>\n",
       "      <td>f</td>\n",
       "      <td>j</td>\n",
       "      <td>-1.0</td>\n",
       "      <td>0</td>\n",
       "      <td>4</td>\n",
       "      <td>1</td>\n",
       "      <td>Big Black Triangle</td>\n",
       "      <td>[1, 1, 0]</td>\n",
       "      <td>1</td>\n",
       "      <td>1</td>\n",
       "      <td>0</td>\n",
       "      <td>A</td>\n",
       "      <td>A</td>\n",
       "      <td>B</td>\n",
       "    </tr>\n",
       "  </tbody>\n",
       "</table>\n",
       "<p>9008 rows × 17 columns</p>\n",
       "</div>"
      ],
      "text/plain": [
       "       participant  task  trial choice correct_choice  reward  block  \\\n",
       "288              0     0    288      j              j     1.0      3   \n",
       "289              0     0    289      f              j    -1.0      3   \n",
       "290              0     0    290      j              f    -1.0      3   \n",
       "291              0     0    291      j              j     1.0      3   \n",
       "292              0     0    292      j              j     1.0      3   \n",
       "...            ...   ...    ...    ...            ...     ...    ...   \n",
       "33195           94     0     91      f              j    -1.0      0   \n",
       "33196           94     0     92      f              f     1.0      0   \n",
       "33197           94     0     93      j              j     1.0      0   \n",
       "33198           94     0     94      f              f     1.0      0   \n",
       "33199           94     0     95      f              j    -1.0      0   \n",
       "\n",
       "       condition  category                object all_features  feature1  \\\n",
       "288            4         1  Small White Triangle    [0, 0, 0]         0   \n",
       "289            4         1  Small Black Triangle    [0, 1, 0]         0   \n",
       "290            4         0    Big White Triangle    [1, 0, 0]         1   \n",
       "291            4         1    Big Black Triangle    [1, 1, 0]         1   \n",
       "292            4         1    Small Black Square    [0, 1, 1]         0   \n",
       "...          ...       ...                   ...          ...       ...   \n",
       "33195          4         1  Small White Triangle    [0, 0, 0]         0   \n",
       "33196          4         0    Small White Square    [0, 0, 1]         0   \n",
       "33197          4         1  Small White Triangle    [0, 0, 0]         0   \n",
       "33198          4         0    Small Black Square    [0, 1, 1]         0   \n",
       "33199          4         1    Big Black Triangle    [1, 1, 0]         1   \n",
       "\n",
       "       feature2  feature3 llm_category true_category human_category  \n",
       "288           0         0            C             C              A  \n",
       "289           1         0            C             C              B  \n",
       "290           0         0            Z             Z              A  \n",
       "291           1         0            Z             C              A  \n",
       "292           1         1            C             C              A  \n",
       "...         ...       ...          ...           ...            ...  \n",
       "33195         0         0            A             A              B  \n",
       "33196         0         1            Q             Q              B  \n",
       "33197         0         0            A             A              A  \n",
       "33198         1         1            Q             Q              B  \n",
       "33199         1         0            A             A              B  \n",
       "\n",
       "[9008 rows x 17 columns]"
      ]
     },
     "execution_count": 4,
     "metadata": {},
     "output_type": "execute_result"
    }
   ],
   "source": [
    "data"
   ]
  },
  {
   "cell_type": "code",
   "execution_count": null,
   "id": "e3e20bbe-74dd-432e-af1a-89444da981a6",
   "metadata": {},
   "outputs": [],
   "source": [
    "#"
   ]
  },
  {
   "cell_type": "code",
   "execution_count": 7,
   "id": "b2845d89-ad75-4cde-b95a-0c3e18c03ec1",
   "metadata": {
    "tags": []
   },
   "outputs": [
    {
     "data": {
      "image/png": "[encoded data removed]",
      "text/plain": [
       "<Figure size 360x360 with 1 Axes>"
      ]
     },
     "metadata": {
      "needs_background": "light"
     },
     "output_type": "display_data"
    }
   ],
   "source": [
    "plt.figure(figsize=(5,5))\n",
    "for cond in range(datas.condition.nunique()):\n",
    "    plt.plot(1-correct[cond].mean(0), label = [\"Type ONE\", \"Type TWO\", \"Type THREE\", \"Type FOUR\"][cond])\n",
    "plt.title(\"Claude's simulations\", fontsize=16)\n",
    "plt.xlabel(\"Trials\", fontsize=14)\n",
    "plt.ylabel(\"Mean error\", fontsize=14)\n",
    "plt.legend(frameon=False)#, fontsize=14)\n",
    "plt.show()"
   ]
  },
  {
   "cell_type": "code",
   "execution_count": 8,
   "id": "d1ba1b82-1aea-4ecb-8123-3d0f94b77767",
   "metadata": {},
   "outputs": [
    {
     "data": {
      "text/plain": [
       "(4, 94, 96)"
      ]
     },
     "execution_count": 8,
     "metadata": {},
     "output_type": "execute_result"
    }
   ],
   "source": [
    "correct.shape"
   ]
  },
  {
   "cell_type": "code",
   "execution_count": 9,
   "id": "91804b92-e166-4019-9b02-42d61d88da92",
   "metadata": {},
   "outputs": [
    {
     "data": {
      "text/plain": [
       "(6, 16)"
      ]
     },
     "execution_count": 9,
     "metadata": {},
     "output_type": "execute_result"
    }
   ],
   "source": [
    "correct[cond].mean(0).reshape(96//16, 16).shape"
   ]
  },
  {
   "cell_type": "code",
   "execution_count": 10,
   "id": "f84f4a45-35a8-48f5-8048-dcb95a2d1f98",
   "metadata": {},
   "outputs": [
    {
     "data": {
      "image/png": "[encoded data removed]",
      "text/plain": [
       "<Figure size 864x360 with 2 Axes>"
      ]
     },
     "metadata": {
      "needs_background": "light"
     },
     "output_type": "display_data"
    }
   ],
   "source": [
    "import seaborn as sns\n",
    "models = ['LLM', None]\n",
    "FONTSIZE=20\n",
    "f, axes = plt.subplots(1, len(models), figsize=(6*len(models), 5))\n",
    "colors = ['#E0E1DD', '#B6B9B9', '#8C9295', '#616A72','#37434E','#0D1B2A']\n",
    "# markers for the six types of rules in the plot: circle, cross, plus, inverted triangle, asterisk, triangle\n",
    "markers = ['o', 'x', '+', '*', 'v', '^']\n",
    "num_blocks = 6\n",
    "for idx, ax in enumerate(axes):\n",
    "\n",
    "    for cond in range(datas.condition.nunique()):\n",
    "        mean_cond = 1-correct[cond].mean(0).reshape(96//16, 16).mean(1)\n",
    "        std_cond = correct[cond].std(0).reshape(96//16, 16).mean(1)/np.sqrt(num_participants)\n",
    "        ax.plot(np.arange(96//16)+1, mean_cond, label=f'Type {cond}', lw=3, color=colors[cond], marker=markers[cond], markersize=8)\n",
    "\n",
    "    if idx==0:\n",
    "        ax.set_title('LLM', fontsize=FONTSIZE)\n",
    "\n",
    "    ax.set_xticks(np.arange(1, num_blocks+1))\n",
    "    if idx==0:\n",
    "        ax.set_xlabel('Block', fontsize=FONTSIZE)\n",
    "        ax.set_ylabel('P(Error)', fontsize=FONTSIZE)\n",
    "    ax.set_ylim([-0.01, .55])\n",
    "    # locs, labels = ax.get_xticks(), ax.get_xticklabels()\n",
    "    # Set new x-tick locations and labels\n",
    "    ax.set_xticks(np.arange(1, num_blocks+1)[::2])\n",
    "    ax.set_xticklabels(np.arange(1, num_blocks+1)[::2], fontsize=FONTSIZE-2)\n",
    "    ax.tick_params(axis='y', labelsize=FONTSIZE-2)       \n",
    "\n",
    "# add legend that spans across all subplots, in one row, at the center for the subplots, and place it outside the plot \n",
    "# f.legend(loc='upper center', bbox_to_anchor=(0.5, 1.1), ncol=6, fontsize=FONTSIZE-2, frameon=False, labels=[f'TYPE {task}' for task in tasks])\n",
    "sns.despine()\n",
    "f.tight_layout()\n",
    "plt.show()"
   ]
  },
  {
   "cell_type": "code",
   "execution_count": null,
   "id": "aafd7362-ef4d-4e51-81ef-accc92c72ec6",
   "metadata": {},
   "outputs": [],
   "source": []
  },
  {
   "cell_type": "code",
   "execution_count": 123,
   "id": "f9e1d33d-9a77-4877-a3e9-541ddc799572",
   "metadata": {
    "tags": []
   },
   "outputs": [
    {
     "data": {
      "image/png": "[encoded data removed]",
      "text/plain": [
       "<Figure size 360x360 with 1 Axes>"
      ]
     },
     "metadata": {
      "needs_background": "light"
     },
     "output_type": "display_data"
    }
   ],
   "source": [
    "plt.figure(figsize=(5,5))\n",
    "for cond in range(datas.condition.nunique()):\n",
    "    mean_cond = 1-correct[cond].mean(0).reshape(96//16, 16).mean(1)\n",
    "    std_cond = correct[cond].std(0).reshape(96//16, 16).mean(1)/np.sqrt(num_participants)\n",
    "    plt.errorbar(np.arange(96//16)+1, mean_cond, yerr=std_cond, label = [\"Type ONE\", \"Type TWO\", \"Type THREE\", \"Type FOUR\"][cond])\n",
    "plt.title(\"Claude's simulations\", fontsize=16)\n",
    "plt.xlabel(\"Blocks\", fontsize=14)\n",
    "plt.ylabel(\"Mean error\", fontsize=14)\n",
    "plt.legend(frameon=False)#, fontsize=14)\n",
    "plt.show()"
   ]
  },
  {
   "cell_type": "code",
   "execution_count": null,
   "id": "9142d02a-8aed-4ab4-9e2b-bbad9d23772b",
   "metadata": {},
   "outputs": [],
   "source": []
  },
  {
   "cell_type": "raw",
   "id": "6fdbee6e-266b-40f1-9983-e68594137006",
   "metadata": {
    "tags": []
   },
   "source": [
    "plt.figure(figsize=(5,5))\n",
    "for cond in range(datas.condition.nunique()):\n",
    "    plt.plot(1-human_correct[cond].mean(0), label = [\"Type ONE\", \"Type TWO\", \"Type THREE\", \"Type FOUR\"][cond])\n",
    "plt.title(\"Human choices simulations\", fontsize=16)\n",
    "plt.xlabel(\"Trials\", fontsize=14)\n",
    "plt.ylabel(\"Mean error\", fontsize=14)\n",
    "plt.legend(frameon=False)#, fontsize=14)\n",
    "plt.show()"
   ]
  },
  {
   "cell_type": "code",
   "execution_count": null,
   "id": "27b78d50-3023-42b3-849f-c0cd86946a5f",
   "metadata": {},
   "outputs": [],
   "source": []
  },
  {
   "cell_type": "code",
   "execution_count": 62,
   "id": "34f38888-a716-48f2-a49f-e4efe8edcdb6",
   "metadata": {},
   "outputs": [
    {
     "data": {
      "text/plain": [
       "<Axes: xlabel='trial'>"
      ]
     },
     "execution_count": 62,
     "metadata": {},
     "output_type": "execute_result"
    },
    {
     "data": {
      "image/png": "[encoded data removed]",
      "text/plain": [
       "<Figure size 432x288 with 1 Axes>"
      ]
     },
     "metadata": {},
     "output_type": "display_data"
    }
   ],
   "source": [
    "# add a new column to the dataframe when llm_category is same as true_category\n",
    "data['correct'] = data['llm_category'] == data['true_category']\n",
    "# plot correct averaged over participants for condition == 1 over time\n",
    "data.groupby('trial')['correct'].mean().plot()\n",
    "\n"
   ]
  },
  {
   "cell_type": "code",
   "execution_count": 6,
   "id": "6998850d-c92b-4946-abf4-0474425fede7",
   "metadata": {},
   "outputs": [],
   "source": [
    "import numpy as np"
   ]
  },
  {
   "cell_type": "code",
   "execution_count": 7,
   "id": "0fb9d8ce-01bc-467a-adf5-affe64f89857",
   "metadata": {
    "tags": []
   },
   "outputs": [
    {
     "data": {
      "text/html": [
       "<div>\n",
       "<style scoped>\n",
       "    .dataframe tbody tr th:only-of-type {\n",
       "        vertical-align: middle;\n",
       "    }\n",
       "\n",
       "    .dataframe tbody tr th {\n",
       "        vertical-align: top;\n",
       "    }\n",
       "\n",
       "    .dataframe thead th {\n",
       "        text-align: right;\n",
       "    }\n",
       "</style>\n",
       "<table border=\"1\" class=\"dataframe\">\n",
       "  <thead>\n",
       "    <tr style=\"text-align: right;\">\n",
       "      <th></th>\n",
       "      <th>participant</th>\n",
       "      <th>task</th>\n",
       "      <th>trial</th>\n",
       "      <th>choice</th>\n",
       "      <th>correct_choice</th>\n",
       "      <th>reward</th>\n",
       "      <th>block</th>\n",
       "      <th>condition</th>\n",
       "      <th>category</th>\n",
       "      <th>object</th>\n",
       "      <th>all_features</th>\n",
       "      <th>feature1</th>\n",
       "      <th>feature2</th>\n",
       "      <th>feature3</th>\n",
       "      <th>llm_category</th>\n",
       "      <th>true_category</th>\n",
       "    </tr>\n",
       "  </thead>\n",
       "  <tbody>\n",
       "    <tr>\n",
       "      <th>0</th>\n",
       "      <td>0</td>\n",
       "      <td>0</td>\n",
       "      <td>0</td>\n",
       "      <td>j</td>\n",
       "      <td>j</td>\n",
       "      <td>1.0</td>\n",
       "      <td>0</td>\n",
       "      <td>1</td>\n",
       "      <td>1</td>\n",
       "      <td>Big Black Square</td>\n",
       "      <td>[1, 1, 1]</td>\n",
       "      <td>1</td>\n",
       "      <td>1</td>\n",
       "      <td>1</td>\n",
       "      <td>Y</td>\n",
       "      <td>Y</td>\n",
       "    </tr>\n",
       "    <tr>\n",
       "      <th>1</th>\n",
       "      <td>0</td>\n",
       "      <td>0</td>\n",
       "      <td>1</td>\n",
       "      <td>j</td>\n",
       "      <td>f</td>\n",
       "      <td>-1.0</td>\n",
       "      <td>0</td>\n",
       "      <td>1</td>\n",
       "      <td>0</td>\n",
       "      <td>Small Black Triangle</td>\n",
       "      <td>[0, 1, 0]</td>\n",
       "      <td>0</td>\n",
       "      <td>1</td>\n",
       "      <td>0</td>\n",
       "      <td>E</td>\n",
       "      <td>E</td>\n",
       "    </tr>\n",
       "    <tr>\n",
       "      <th>2</th>\n",
       "      <td>0</td>\n",
       "      <td>0</td>\n",
       "      <td>2</td>\n",
       "      <td>f</td>\n",
       "      <td>j</td>\n",
       "      <td>-1.0</td>\n",
       "      <td>0</td>\n",
       "      <td>1</td>\n",
       "      <td>1</td>\n",
       "      <td>Big White Triangle</td>\n",
       "      <td>[1, 0, 0]</td>\n",
       "      <td>1</td>\n",
       "      <td>0</td>\n",
       "      <td>0</td>\n",
       "      <td>Y</td>\n",
       "      <td>Y</td>\n",
       "    </tr>\n",
       "    <tr>\n",
       "      <th>3</th>\n",
       "      <td>0</td>\n",
       "      <td>0</td>\n",
       "      <td>3</td>\n",
       "      <td>f</td>\n",
       "      <td>f</td>\n",
       "      <td>1.0</td>\n",
       "      <td>0</td>\n",
       "      <td>1</td>\n",
       "      <td>0</td>\n",
       "      <td>Small White Triangle</td>\n",
       "      <td>[0, 0, 0]</td>\n",
       "      <td>0</td>\n",
       "      <td>0</td>\n",
       "      <td>0</td>\n",
       "      <td>E</td>\n",
       "      <td>E</td>\n",
       "    </tr>\n",
       "    <tr>\n",
       "      <th>4</th>\n",
       "      <td>0</td>\n",
       "      <td>0</td>\n",
       "      <td>4</td>\n",
       "      <td>f</td>\n",
       "      <td>f</td>\n",
       "      <td>1.0</td>\n",
       "      <td>0</td>\n",
       "      <td>1</td>\n",
       "      <td>0</td>\n",
       "      <td>Small White Square</td>\n",
       "      <td>[0, 0, 1]</td>\n",
       "      <td>0</td>\n",
       "      <td>0</td>\n",
       "      <td>1</td>\n",
       "      <td>E</td>\n",
       "      <td>E</td>\n",
       "    </tr>\n",
       "    <tr>\n",
       "      <th>...</th>\n",
       "      <td>...</td>\n",
       "      <td>...</td>\n",
       "      <td>...</td>\n",
       "      <td>...</td>\n",
       "      <td>...</td>\n",
       "      <td>...</td>\n",
       "      <td>...</td>\n",
       "      <td>...</td>\n",
       "      <td>...</td>\n",
       "      <td>...</td>\n",
       "      <td>...</td>\n",
       "      <td>...</td>\n",
       "      <td>...</td>\n",
       "      <td>...</td>\n",
       "      <td>...</td>\n",
       "      <td>...</td>\n",
       "    </tr>\n",
       "    <tr>\n",
       "      <th>33435</th>\n",
       "      <td>94</td>\n",
       "      <td>0</td>\n",
       "      <td>331</td>\n",
       "      <td>f</td>\n",
       "      <td>f</td>\n",
       "      <td>1.0</td>\n",
       "      <td>3</td>\n",
       "      <td>1</td>\n",
       "      <td>0</td>\n",
       "      <td>Big White Triangle</td>\n",
       "      <td>[1, 0, 0]</td>\n",
       "      <td>1</td>\n",
       "      <td>0</td>\n",
       "      <td>0</td>\n",
       "      <td>B</td>\n",
       "      <td>B</td>\n",
       "    </tr>\n",
       "    <tr>\n",
       "      <th>33436</th>\n",
       "      <td>94</td>\n",
       "      <td>0</td>\n",
       "      <td>332</td>\n",
       "      <td>j</td>\n",
       "      <td>j</td>\n",
       "      <td>1.0</td>\n",
       "      <td>3</td>\n",
       "      <td>1</td>\n",
       "      <td>1</td>\n",
       "      <td>Small Black Triangle</td>\n",
       "      <td>[0, 1, 0]</td>\n",
       "      <td>0</td>\n",
       "      <td>1</td>\n",
       "      <td>0</td>\n",
       "      <td>J</td>\n",
       "      <td>J</td>\n",
       "    </tr>\n",
       "    <tr>\n",
       "      <th>33437</th>\n",
       "      <td>94</td>\n",
       "      <td>0</td>\n",
       "      <td>333</td>\n",
       "      <td>j</td>\n",
       "      <td>j</td>\n",
       "      <td>1.0</td>\n",
       "      <td>3</td>\n",
       "      <td>1</td>\n",
       "      <td>1</td>\n",
       "      <td>Small Black Square</td>\n",
       "      <td>[0, 1, 1]</td>\n",
       "      <td>0</td>\n",
       "      <td>1</td>\n",
       "      <td>1</td>\n",
       "      <td>J</td>\n",
       "      <td>J</td>\n",
       "    </tr>\n",
       "    <tr>\n",
       "      <th>33438</th>\n",
       "      <td>94</td>\n",
       "      <td>0</td>\n",
       "      <td>334</td>\n",
       "      <td>f</td>\n",
       "      <td>f</td>\n",
       "      <td>1.0</td>\n",
       "      <td>3</td>\n",
       "      <td>1</td>\n",
       "      <td>0</td>\n",
       "      <td>Small White Triangle</td>\n",
       "      <td>[0, 0, 0]</td>\n",
       "      <td>0</td>\n",
       "      <td>0</td>\n",
       "      <td>0</td>\n",
       "      <td>B</td>\n",
       "      <td>B</td>\n",
       "    </tr>\n",
       "    <tr>\n",
       "      <th>33439</th>\n",
       "      <td>94</td>\n",
       "      <td>0</td>\n",
       "      <td>335</td>\n",
       "      <td>f</td>\n",
       "      <td>f</td>\n",
       "      <td>1.0</td>\n",
       "      <td>3</td>\n",
       "      <td>1</td>\n",
       "      <td>0</td>\n",
       "      <td>Big White Triangle</td>\n",
       "      <td>[1, 0, 0]</td>\n",
       "      <td>1</td>\n",
       "      <td>0</td>\n",
       "      <td>0</td>\n",
       "      <td>B</td>\n",
       "      <td>B</td>\n",
       "    </tr>\n",
       "  </tbody>\n",
       "</table>\n",
       "<p>33440 rows × 16 columns</p>\n",
       "</div>"
      ],
      "text/plain": [
       "       participant  task  trial choice correct_choice  reward  block   \n",
       "0                0     0      0      j              j     1.0      0  \\\n",
       "1                0     0      1      j              f    -1.0      0   \n",
       "2                0     0      2      f              j    -1.0      0   \n",
       "3                0     0      3      f              f     1.0      0   \n",
       "4                0     0      4      f              f     1.0      0   \n",
       "...            ...   ...    ...    ...            ...     ...    ...   \n",
       "33435           94     0    331      f              f     1.0      3   \n",
       "33436           94     0    332      j              j     1.0      3   \n",
       "33437           94     0    333      j              j     1.0      3   \n",
       "33438           94     0    334      f              f     1.0      3   \n",
       "33439           94     0    335      f              f     1.0      3   \n",
       "\n",
       "       condition  category                object all_features  feature1   \n",
       "0              1         1      Big Black Square    [1, 1, 1]         1  \\\n",
       "1              1         0  Small Black Triangle    [0, 1, 0]         0   \n",
       "2              1         1    Big White Triangle    [1, 0, 0]         1   \n",
       "3              1         0  Small White Triangle    [0, 0, 0]         0   \n",
       "4              1         0    Small White Square    [0, 0, 1]         0   \n",
       "...          ...       ...                   ...          ...       ...   \n",
       "33435          1         0    Big White Triangle    [1, 0, 0]         1   \n",
       "33436          1         1  Small Black Triangle    [0, 1, 0]         0   \n",
       "33437          1         1    Small Black Square    [0, 1, 1]         0   \n",
       "33438          1         0  Small White Triangle    [0, 0, 0]         0   \n",
       "33439          1         0    Big White Triangle    [1, 0, 0]         1   \n",
       "\n",
       "       feature2  feature3 llm_category true_category  \n",
       "0             1         1            Y             Y  \n",
       "1             1         0            E             E  \n",
       "2             0         0            Y             Y  \n",
       "3             0         0            E             E  \n",
       "4             0         1            E             E  \n",
       "...         ...       ...          ...           ...  \n",
       "33435         0         0            B             B  \n",
       "33436         1         0            J             J  \n",
       "33437         1         1            J             J  \n",
       "33438         0         0            B             B  \n",
       "33439         0         0            B             B  \n",
       "\n",
       "[33440 rows x 16 columns]"
      ]
     },
     "execution_count": 7,
     "metadata": {},
     "output_type": "execute_result"
    }
   ],
   "source": [
    "data[data.participant.isin(data.participant.unique())]#==data[data.participant.isin(data.participant.unique())].true_category.values # ==data[data.participant.isin(data.participant.unique())].true_category.values"
   ]
  },
  {
   "cell_type": "markdown",
   "id": "639c0c23",
   "metadata": {},
   "source": []
  },
  {
   "cell_type": "code",
   "execution_count": 35,
   "id": "1f72c630-7629-4391-bdb5-318e8adfedc1",
   "metadata": {
    "tags": []
   },
   "outputs": [
    {
     "data": {
      "text/plain": [
       "[<matplotlib.lines.Line2D at 0x2b50a53aee50>]"
      ]
     },
     "execution_count": 35,
     "metadata": {},
     "output_type": "execute_result"
    },
    {
     "data": {
      "image/png": "[encoded data removed]",
      "text/plain": [
       "<Figure size 432x288 with 1 Axes>"
      ]
     },
     "metadata": {},
     "output_type": "display_data"
    }
   ],
   "source": [
    "import matplotlib.pyplot as plt\n",
    "plt.plot(df_grouped.accuracy[:])"
   ]
  },
  {
   "cell_type": "code",
   "execution_count": null,
   "id": "31051034",
   "metadata": {},
   "outputs": [],
   "source": []
  },
  {
   "cell_type": "code",
   "execution_count": null,
   "id": "2239095b",
   "metadata": {},
   "outputs": [],
   "source": [
    "# dat"
   ]
  },
  {
   "cell_type": "code",
   "execution_count": null,
   "id": "4644de2a",
   "metadata": {},
   "outputs": [],
   "source": []
  },
  {
   "cell_type": "code",
   "execution_count": 65,
   "id": "44413c01-6973-4af7-97ba-5c91cf712ecd",
   "metadata": {},
   "outputs": [
    {
     "data": {
      "text/plain": [
       "[<matplotlib.lines.Line2D at 0x2af4bd41efa0>]"
      ]
     },
     "execution_count": 65,
     "metadata": {},
     "output_type": "execute_result"
    },
    {
     "data": {
      "image/png": "[encoded data removed]",
      "text/plain": [
       "<Figure size 432x288 with 1 Axes>"
      ]
     },
     "metadata": {
      "needs_background": "light"
     },
     "output_type": "display_data"
    }
   ],
   "source": [
    "participant_id = 90\n",
    "num_trials = 400\n",
    "plt.plot((data[data.participant==participant_id].llm_category.values==data[data.participant==participant_id].true_category.values)[:num_trials])"
   ]
  },
  {
   "cell_type": "code",
   "execution_count": null,
   "id": "9cba21df-1d17-4e5e-84c0-61b21db088ac",
   "metadata": {},
   "outputs": [],
   "source": []
  },
  {
   "cell_type": "code",
   "execution_count": 66,
   "id": "c31ef501-777a-44cf-aeb6-21e758e4e8ce",
   "metadata": {},
   "outputs": [
    {
     "data": {
      "text/plain": [
       "[<matplotlib.lines.Line2D at 0x2af4bd48b7f0>]"
      ]
     },
     "execution_count": 66,
     "metadata": {},
     "output_type": "execute_result"
    },
    {
     "data": {
      "image/png": "[encoded data removed]",
      "text/plain": [
       "<Figure size 432x288 with 1 Axes>"
      ]
     },
     "metadata": {
      "needs_background": "light"
     },
     "output_type": "display_data"
    }
   ],
   "source": [
    "import matplotlib.pyplot as plt\n",
    "plt.plot(data[data.participant==0].llm_category[:56].values==data[data.participant==0].true_category[:56].values)"
   ]
  },
  {
   "cell_type": "code",
   "execution_count": null,
   "id": "d76ebae0-e2ae-4484-9846-1dd22e6cb073",
   "metadata": {},
   "outputs": [],
   "source": []
  }
 ],
 "metadata": {
  "kernelspec": {
   "display_name": "Python 3",
   "language": "python",
   "name": "python3"
  },
  "language_info": {
   "codemirror_mode": {
    "name": "ipython",
    "version": 3
   },
   "file_extension": ".py",
   "mimetype": "text/x-python",
   "name": "python",
   "nbconvert_exporter": "python",
   "pygments_lexer": "ipython3",
   "version": "3.9.7"
  }
 },
 "nbformat": 4,
 "nbformat_minor": 5
}
